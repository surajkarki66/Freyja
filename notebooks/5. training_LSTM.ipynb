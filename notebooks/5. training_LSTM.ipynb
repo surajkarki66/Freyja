{
 "cells": [
  {
   "cell_type": "markdown",
   "id": "0002970a",
   "metadata": {
    "id": "0002970a"
   },
   "source": [
    "## Imports"
   ]
  },
  {
   "cell_type": "code",
   "execution_count": 62,
   "id": "370742bd",
   "metadata": {
    "colab": {
     "base_uri": "https://localhost:8080/"
    },
    "id": "370742bd",
    "outputId": "1f69522d-aff2-4517-b745-d35c8b8ebb97"
   },
   "outputs": [
    {
     "name": "stderr",
     "output_type": "stream",
     "text": [
      "[nltk_data] Downloading package stopwords to /root/nltk_data...\n",
      "[nltk_data]   Package stopwords is already up-to-date!\n",
      "[nltk_data] Downloading package punkt to /root/nltk_data...\n",
      "[nltk_data]   Package punkt is already up-to-date!\n"
     ]
    },
    {
     "data": {
      "text/plain": [
       "True"
      ]
     },
     "execution_count": 62,
     "metadata": {},
     "output_type": "execute_result"
    }
   ],
   "source": [
    "import numpy as np\n",
    "import pandas as pd\n",
    "import tensorflow as tf\n",
    "import nltk\n",
    "import tensorflow.keras.backend as K\n",
    "import re\n",
    "\n",
    "from nltk.corpus import stopwords\n",
    "from nltk.tokenize import sent_tokenize,word_tokenize\n",
    "from gensim.models import Word2Vec\n",
    "from tensorflow.keras.layers import Embedding, LSTM, Dense, Dropout, Lambda, Flatten\n",
    "from tensorflow.keras.models import Sequential, load_model, model_from_config\n",
    "from sklearn.model_selection import train_test_split\n",
    "from sklearn.metrics import mean_squared_error\n",
    "from sklearn.metrics import cohen_kappa_score\n",
    "\n",
    "nltk.download('stopwords')\n",
    "nltk.download('punkt')"
   ]
  },
  {
   "cell_type": "markdown",
   "id": "C92B0SyGks4H",
   "metadata": {
    "id": "C92B0SyGks4H"
   },
   "source": [
    "## Mount google drive"
   ]
  },
  {
   "cell_type": "code",
   "execution_count": 63,
   "id": "F8jpApfWkwGe",
   "metadata": {
    "colab": {
     "base_uri": "https://localhost:8080/"
    },
    "id": "F8jpApfWkwGe",
    "outputId": "fe169d90-80c9-4039-bf3d-f0a67f4b647a"
   },
   "outputs": [
    {
     "name": "stdout",
     "output_type": "stream",
     "text": [
      "Drive already mounted at /content/drive; to attempt to forcibly remount, call drive.mount(\"/content/drive\", force_remount=True).\n"
     ]
    }
   ],
   "source": [
    "from google.colab import drive\n",
    "drive.mount('/content/drive')"
   ]
  },
  {
   "cell_type": "markdown",
   "id": "c30c575d",
   "metadata": {
    "id": "c30c575d"
   },
   "source": [
    "## Preparing data"
   ]
  },
  {
   "cell_type": "code",
   "execution_count": 64,
   "id": "a0573cf5",
   "metadata": {
    "colab": {
     "base_uri": "https://localhost:8080/",
     "height": 206
    },
    "id": "a0573cf5",
    "outputId": "86f6eb1e-323d-4a23-b133-f1bc44d64a69"
   },
   "outputs": [
    {
     "data": {
      "text/html": [
       "\n",
       "  <div id=\"df-70b2e5b7-c861-4461-8b94-88a73bddd7ed\" class=\"colab-df-container\">\n",
       "    <div>\n",
       "<style scoped>\n",
       "    .dataframe tbody tr th:only-of-type {\n",
       "        vertical-align: middle;\n",
       "    }\n",
       "\n",
       "    .dataframe tbody tr th {\n",
       "        vertical-align: top;\n",
       "    }\n",
       "\n",
       "    .dataframe thead th {\n",
       "        text-align: right;\n",
       "    }\n",
       "</style>\n",
       "<table border=\"1\" class=\"dataframe\">\n",
       "  <thead>\n",
       "    <tr style=\"text-align: right;\">\n",
       "      <th></th>\n",
       "      <th>essay_id</th>\n",
       "      <th>essay_set</th>\n",
       "      <th>essay</th>\n",
       "    </tr>\n",
       "  </thead>\n",
       "  <tbody>\n",
       "    <tr>\n",
       "      <th>0</th>\n",
       "      <td>1</td>\n",
       "      <td>1</td>\n",
       "      <td>Dear local newspaper, I think effects computer...</td>\n",
       "    </tr>\n",
       "    <tr>\n",
       "      <th>1</th>\n",
       "      <td>2</td>\n",
       "      <td>1</td>\n",
       "      <td>Dear @CAPS1 @CAPS2, I believe that using compu...</td>\n",
       "    </tr>\n",
       "    <tr>\n",
       "      <th>2</th>\n",
       "      <td>3</td>\n",
       "      <td>1</td>\n",
       "      <td>Dear, @CAPS1 @CAPS2 @CAPS3 More and more peopl...</td>\n",
       "    </tr>\n",
       "    <tr>\n",
       "      <th>3</th>\n",
       "      <td>4</td>\n",
       "      <td>1</td>\n",
       "      <td>Dear Local Newspaper, @CAPS1 I have found that...</td>\n",
       "    </tr>\n",
       "    <tr>\n",
       "      <th>4</th>\n",
       "      <td>5</td>\n",
       "      <td>1</td>\n",
       "      <td>Dear @LOCATION1, I know having computers has a...</td>\n",
       "    </tr>\n",
       "  </tbody>\n",
       "</table>\n",
       "</div>\n",
       "    <div class=\"colab-df-buttons\">\n",
       "\n",
       "  <div class=\"colab-df-container\">\n",
       "    <button class=\"colab-df-convert\" onclick=\"convertToInteractive('df-70b2e5b7-c861-4461-8b94-88a73bddd7ed')\"\n",
       "            title=\"Convert this dataframe to an interactive table.\"\n",
       "            style=\"display:none;\">\n",
       "\n",
       "  <svg xmlns=\"http://www.w3.org/2000/svg\" height=\"24px\" viewBox=\"0 -960 960 960\">\n",
       "    <path d=\"M120-120v-720h720v720H120Zm60-500h600v-160H180v160Zm220 220h160v-160H400v160Zm0 220h160v-160H400v160ZM180-400h160v-160H180v160Zm440 0h160v-160H620v160ZM180-180h160v-160H180v160Zm440 0h160v-160H620v160Z\"/>\n",
       "  </svg>\n",
       "    </button>\n",
       "\n",
       "  <style>\n",
       "    .colab-df-container {\n",
       "      display:flex;\n",
       "      gap: 12px;\n",
       "    }\n",
       "\n",
       "    .colab-df-convert {\n",
       "      background-color: #E8F0FE;\n",
       "      border: none;\n",
       "      border-radius: 50%;\n",
       "      cursor: pointer;\n",
       "      display: none;\n",
       "      fill: #1967D2;\n",
       "      height: 32px;\n",
       "      padding: 0 0 0 0;\n",
       "      width: 32px;\n",
       "    }\n",
       "\n",
       "    .colab-df-convert:hover {\n",
       "      background-color: #E2EBFA;\n",
       "      box-shadow: 0px 1px 2px rgba(60, 64, 67, 0.3), 0px 1px 3px 1px rgba(60, 64, 67, 0.15);\n",
       "      fill: #174EA6;\n",
       "    }\n",
       "\n",
       "    .colab-df-buttons div {\n",
       "      margin-bottom: 4px;\n",
       "    }\n",
       "\n",
       "    [theme=dark] .colab-df-convert {\n",
       "      background-color: #3B4455;\n",
       "      fill: #D2E3FC;\n",
       "    }\n",
       "\n",
       "    [theme=dark] .colab-df-convert:hover {\n",
       "      background-color: #434B5C;\n",
       "      box-shadow: 0px 1px 3px 1px rgba(0, 0, 0, 0.15);\n",
       "      filter: drop-shadow(0px 1px 2px rgba(0, 0, 0, 0.3));\n",
       "      fill: #FFFFFF;\n",
       "    }\n",
       "  </style>\n",
       "\n",
       "    <script>\n",
       "      const buttonEl =\n",
       "        document.querySelector('#df-70b2e5b7-c861-4461-8b94-88a73bddd7ed button.colab-df-convert');\n",
       "      buttonEl.style.display =\n",
       "        google.colab.kernel.accessAllowed ? 'block' : 'none';\n",
       "\n",
       "      async function convertToInteractive(key) {\n",
       "        const element = document.querySelector('#df-70b2e5b7-c861-4461-8b94-88a73bddd7ed');\n",
       "        const dataTable =\n",
       "          await google.colab.kernel.invokeFunction('convertToInteractive',\n",
       "                                                    [key], {});\n",
       "        if (!dataTable) return;\n",
       "\n",
       "        const docLinkHtml = 'Like what you see? Visit the ' +\n",
       "          '<a target=\"_blank\" href=https://colab.research.google.com/notebooks/data_table.ipynb>data table notebook</a>'\n",
       "          + ' to learn more about interactive tables.';\n",
       "        element.innerHTML = '';\n",
       "        dataTable['output_type'] = 'display_data';\n",
       "        await google.colab.output.renderOutput(dataTable, element);\n",
       "        const docLink = document.createElement('div');\n",
       "        docLink.innerHTML = docLinkHtml;\n",
       "        element.appendChild(docLink);\n",
       "      }\n",
       "    </script>\n",
       "  </div>\n",
       "\n",
       "\n",
       "<div id=\"df-d0c34162-828d-46b8-8d8f-e672b3357ba5\">\n",
       "  <button class=\"colab-df-quickchart\" onclick=\"quickchart('df-d0c34162-828d-46b8-8d8f-e672b3357ba5')\"\n",
       "            title=\"Suggest charts\"\n",
       "            style=\"display:none;\">\n",
       "\n",
       "<svg xmlns=\"http://www.w3.org/2000/svg\" height=\"24px\"viewBox=\"0 0 24 24\"\n",
       "     width=\"24px\">\n",
       "    <g>\n",
       "        <path d=\"M19 3H5c-1.1 0-2 .9-2 2v14c0 1.1.9 2 2 2h14c1.1 0 2-.9 2-2V5c0-1.1-.9-2-2-2zM9 17H7v-7h2v7zm4 0h-2V7h2v10zm4 0h-2v-4h2v4z\"/>\n",
       "    </g>\n",
       "</svg>\n",
       "  </button>\n",
       "\n",
       "<style>\n",
       "  .colab-df-quickchart {\n",
       "      --bg-color: #E8F0FE;\n",
       "      --fill-color: #1967D2;\n",
       "      --hover-bg-color: #E2EBFA;\n",
       "      --hover-fill-color: #174EA6;\n",
       "      --disabled-fill-color: #AAA;\n",
       "      --disabled-bg-color: #DDD;\n",
       "  }\n",
       "\n",
       "  [theme=dark] .colab-df-quickchart {\n",
       "      --bg-color: #3B4455;\n",
       "      --fill-color: #D2E3FC;\n",
       "      --hover-bg-color: #434B5C;\n",
       "      --hover-fill-color: #FFFFFF;\n",
       "      --disabled-bg-color: #3B4455;\n",
       "      --disabled-fill-color: #666;\n",
       "  }\n",
       "\n",
       "  .colab-df-quickchart {\n",
       "    background-color: var(--bg-color);\n",
       "    border: none;\n",
       "    border-radius: 50%;\n",
       "    cursor: pointer;\n",
       "    display: none;\n",
       "    fill: var(--fill-color);\n",
       "    height: 32px;\n",
       "    padding: 0;\n",
       "    width: 32px;\n",
       "  }\n",
       "\n",
       "  .colab-df-quickchart:hover {\n",
       "    background-color: var(--hover-bg-color);\n",
       "    box-shadow: 0 1px 2px rgba(60, 64, 67, 0.3), 0 1px 3px 1px rgba(60, 64, 67, 0.15);\n",
       "    fill: var(--button-hover-fill-color);\n",
       "  }\n",
       "\n",
       "  .colab-df-quickchart-complete:disabled,\n",
       "  .colab-df-quickchart-complete:disabled:hover {\n",
       "    background-color: var(--disabled-bg-color);\n",
       "    fill: var(--disabled-fill-color);\n",
       "    box-shadow: none;\n",
       "  }\n",
       "\n",
       "  .colab-df-spinner {\n",
       "    border: 2px solid var(--fill-color);\n",
       "    border-color: transparent;\n",
       "    border-bottom-color: var(--fill-color);\n",
       "    animation:\n",
       "      spin 1s steps(1) infinite;\n",
       "  }\n",
       "\n",
       "  @keyframes spin {\n",
       "    0% {\n",
       "      border-color: transparent;\n",
       "      border-bottom-color: var(--fill-color);\n",
       "      border-left-color: var(--fill-color);\n",
       "    }\n",
       "    20% {\n",
       "      border-color: transparent;\n",
       "      border-left-color: var(--fill-color);\n",
       "      border-top-color: var(--fill-color);\n",
       "    }\n",
       "    30% {\n",
       "      border-color: transparent;\n",
       "      border-left-color: var(--fill-color);\n",
       "      border-top-color: var(--fill-color);\n",
       "      border-right-color: var(--fill-color);\n",
       "    }\n",
       "    40% {\n",
       "      border-color: transparent;\n",
       "      border-right-color: var(--fill-color);\n",
       "      border-top-color: var(--fill-color);\n",
       "    }\n",
       "    60% {\n",
       "      border-color: transparent;\n",
       "      border-right-color: var(--fill-color);\n",
       "    }\n",
       "    80% {\n",
       "      border-color: transparent;\n",
       "      border-right-color: var(--fill-color);\n",
       "      border-bottom-color: var(--fill-color);\n",
       "    }\n",
       "    90% {\n",
       "      border-color: transparent;\n",
       "      border-bottom-color: var(--fill-color);\n",
       "    }\n",
       "  }\n",
       "</style>\n",
       "\n",
       "  <script>\n",
       "    async function quickchart(key) {\n",
       "      const quickchartButtonEl =\n",
       "        document.querySelector('#' + key + ' button');\n",
       "      quickchartButtonEl.disabled = true;  // To prevent multiple clicks.\n",
       "      quickchartButtonEl.classList.add('colab-df-spinner');\n",
       "      try {\n",
       "        const charts = await google.colab.kernel.invokeFunction(\n",
       "            'suggestCharts', [key], {});\n",
       "      } catch (error) {\n",
       "        console.error('Error during call to suggestCharts:', error);\n",
       "      }\n",
       "      quickchartButtonEl.classList.remove('colab-df-spinner');\n",
       "      quickchartButtonEl.classList.add('colab-df-quickchart-complete');\n",
       "    }\n",
       "    (() => {\n",
       "      let quickchartButtonEl =\n",
       "        document.querySelector('#df-d0c34162-828d-46b8-8d8f-e672b3357ba5 button');\n",
       "      quickchartButtonEl.style.display =\n",
       "        google.colab.kernel.accessAllowed ? 'block' : 'none';\n",
       "    })();\n",
       "  </script>\n",
       "</div>\n",
       "    </div>\n",
       "  </div>\n"
      ],
      "text/plain": [
       "   essay_id  essay_set                                              essay\n",
       "0         1          1  Dear local newspaper, I think effects computer...\n",
       "1         2          1  Dear @CAPS1 @CAPS2, I believe that using compu...\n",
       "2         3          1  Dear, @CAPS1 @CAPS2 @CAPS3 More and more peopl...\n",
       "3         4          1  Dear Local Newspaper, @CAPS1 I have found that...\n",
       "4         5          1  Dear @LOCATION1, I know having computers has a..."
      ]
     },
     "execution_count": 64,
     "metadata": {},
     "output_type": "execute_result"
    }
   ],
   "source": [
    "df = pd.read_csv(\"/content/drive/MyDrive/Datasets/Hewett's Essay/training_set_rel3.tsv\", sep='\\t', encoding='ISO-8859-1');\n",
    "df.dropna(axis=1,inplace=True)\n",
    "df.drop(columns=['domain1_score','rater1_domain1','rater2_domain1'],inplace=True,axis=1)\n",
    "df.head()"
   ]
  },
  {
   "cell_type": "code",
   "execution_count": 65,
   "id": "ba08595d",
   "metadata": {
    "id": "ba08595d"
   },
   "outputs": [],
   "source": [
    "temp = pd.read_csv(\"/content/drive/MyDrive/Datasets/Hewett's Essay/processed_dataset_2.csv\")\n",
    "temp.drop(\"Unnamed: 0\",inplace=True,axis=1)"
   ]
  },
  {
   "cell_type": "code",
   "execution_count": 66,
   "id": "4a036f25",
   "metadata": {
    "colab": {
     "base_uri": "https://localhost:8080/",
     "height": 206
    },
    "id": "4a036f25",
    "outputId": "495df8eb-1a3a-432b-d28a-ddcf8a07c4f3"
   },
   "outputs": [
    {
     "data": {
      "text/html": [
       "\n",
       "  <div id=\"df-5e2293c7-b6ae-4549-a580-41fd16f5454e\" class=\"colab-df-container\">\n",
       "    <div>\n",
       "<style scoped>\n",
       "    .dataframe tbody tr th:only-of-type {\n",
       "        vertical-align: middle;\n",
       "    }\n",
       "\n",
       "    .dataframe tbody tr th {\n",
       "        vertical-align: top;\n",
       "    }\n",
       "\n",
       "    .dataframe thead th {\n",
       "        text-align: right;\n",
       "    }\n",
       "</style>\n",
       "<table border=\"1\" class=\"dataframe\">\n",
       "  <thead>\n",
       "    <tr style=\"text-align: right;\">\n",
       "      <th></th>\n",
       "      <th>essay_id</th>\n",
       "      <th>essay_set</th>\n",
       "      <th>essay</th>\n",
       "      <th>domain1_score</th>\n",
       "    </tr>\n",
       "  </thead>\n",
       "  <tbody>\n",
       "    <tr>\n",
       "      <th>0</th>\n",
       "      <td>1</td>\n",
       "      <td>1</td>\n",
       "      <td>Dear local newspaper, I think effects computer...</td>\n",
       "      <td>6</td>\n",
       "    </tr>\n",
       "    <tr>\n",
       "      <th>1</th>\n",
       "      <td>2</td>\n",
       "      <td>1</td>\n",
       "      <td>Dear @CAPS1 @CAPS2, I believe that using compu...</td>\n",
       "      <td>7</td>\n",
       "    </tr>\n",
       "    <tr>\n",
       "      <th>2</th>\n",
       "      <td>3</td>\n",
       "      <td>1</td>\n",
       "      <td>Dear, @CAPS1 @CAPS2 @CAPS3 More and more peopl...</td>\n",
       "      <td>5</td>\n",
       "    </tr>\n",
       "    <tr>\n",
       "      <th>3</th>\n",
       "      <td>4</td>\n",
       "      <td>1</td>\n",
       "      <td>Dear Local Newspaper, @CAPS1 I have found that...</td>\n",
       "      <td>8</td>\n",
       "    </tr>\n",
       "    <tr>\n",
       "      <th>4</th>\n",
       "      <td>5</td>\n",
       "      <td>1</td>\n",
       "      <td>Dear @LOCATION1, I know having computers has a...</td>\n",
       "      <td>6</td>\n",
       "    </tr>\n",
       "  </tbody>\n",
       "</table>\n",
       "</div>\n",
       "    <div class=\"colab-df-buttons\">\n",
       "\n",
       "  <div class=\"colab-df-container\">\n",
       "    <button class=\"colab-df-convert\" onclick=\"convertToInteractive('df-5e2293c7-b6ae-4549-a580-41fd16f5454e')\"\n",
       "            title=\"Convert this dataframe to an interactive table.\"\n",
       "            style=\"display:none;\">\n",
       "\n",
       "  <svg xmlns=\"http://www.w3.org/2000/svg\" height=\"24px\" viewBox=\"0 -960 960 960\">\n",
       "    <path d=\"M120-120v-720h720v720H120Zm60-500h600v-160H180v160Zm220 220h160v-160H400v160Zm0 220h160v-160H400v160ZM180-400h160v-160H180v160Zm440 0h160v-160H620v160ZM180-180h160v-160H180v160Zm440 0h160v-160H620v160Z\"/>\n",
       "  </svg>\n",
       "    </button>\n",
       "\n",
       "  <style>\n",
       "    .colab-df-container {\n",
       "      display:flex;\n",
       "      gap: 12px;\n",
       "    }\n",
       "\n",
       "    .colab-df-convert {\n",
       "      background-color: #E8F0FE;\n",
       "      border: none;\n",
       "      border-radius: 50%;\n",
       "      cursor: pointer;\n",
       "      display: none;\n",
       "      fill: #1967D2;\n",
       "      height: 32px;\n",
       "      padding: 0 0 0 0;\n",
       "      width: 32px;\n",
       "    }\n",
       "\n",
       "    .colab-df-convert:hover {\n",
       "      background-color: #E2EBFA;\n",
       "      box-shadow: 0px 1px 2px rgba(60, 64, 67, 0.3), 0px 1px 3px 1px rgba(60, 64, 67, 0.15);\n",
       "      fill: #174EA6;\n",
       "    }\n",
       "\n",
       "    .colab-df-buttons div {\n",
       "      margin-bottom: 4px;\n",
       "    }\n",
       "\n",
       "    [theme=dark] .colab-df-convert {\n",
       "      background-color: #3B4455;\n",
       "      fill: #D2E3FC;\n",
       "    }\n",
       "\n",
       "    [theme=dark] .colab-df-convert:hover {\n",
       "      background-color: #434B5C;\n",
       "      box-shadow: 0px 1px 3px 1px rgba(0, 0, 0, 0.15);\n",
       "      filter: drop-shadow(0px 1px 2px rgba(0, 0, 0, 0.3));\n",
       "      fill: #FFFFFF;\n",
       "    }\n",
       "  </style>\n",
       "\n",
       "    <script>\n",
       "      const buttonEl =\n",
       "        document.querySelector('#df-5e2293c7-b6ae-4549-a580-41fd16f5454e button.colab-df-convert');\n",
       "      buttonEl.style.display =\n",
       "        google.colab.kernel.accessAllowed ? 'block' : 'none';\n",
       "\n",
       "      async function convertToInteractive(key) {\n",
       "        const element = document.querySelector('#df-5e2293c7-b6ae-4549-a580-41fd16f5454e');\n",
       "        const dataTable =\n",
       "          await google.colab.kernel.invokeFunction('convertToInteractive',\n",
       "                                                    [key], {});\n",
       "        if (!dataTable) return;\n",
       "\n",
       "        const docLinkHtml = 'Like what you see? Visit the ' +\n",
       "          '<a target=\"_blank\" href=https://colab.research.google.com/notebooks/data_table.ipynb>data table notebook</a>'\n",
       "          + ' to learn more about interactive tables.';\n",
       "        element.innerHTML = '';\n",
       "        dataTable['output_type'] = 'display_data';\n",
       "        await google.colab.output.renderOutput(dataTable, element);\n",
       "        const docLink = document.createElement('div');\n",
       "        docLink.innerHTML = docLinkHtml;\n",
       "        element.appendChild(docLink);\n",
       "      }\n",
       "    </script>\n",
       "  </div>\n",
       "\n",
       "\n",
       "<div id=\"df-0488035f-2e1b-4628-951a-a18e576f5278\">\n",
       "  <button class=\"colab-df-quickchart\" onclick=\"quickchart('df-0488035f-2e1b-4628-951a-a18e576f5278')\"\n",
       "            title=\"Suggest charts\"\n",
       "            style=\"display:none;\">\n",
       "\n",
       "<svg xmlns=\"http://www.w3.org/2000/svg\" height=\"24px\"viewBox=\"0 0 24 24\"\n",
       "     width=\"24px\">\n",
       "    <g>\n",
       "        <path d=\"M19 3H5c-1.1 0-2 .9-2 2v14c0 1.1.9 2 2 2h14c1.1 0 2-.9 2-2V5c0-1.1-.9-2-2-2zM9 17H7v-7h2v7zm4 0h-2V7h2v10zm4 0h-2v-4h2v4z\"/>\n",
       "    </g>\n",
       "</svg>\n",
       "  </button>\n",
       "\n",
       "<style>\n",
       "  .colab-df-quickchart {\n",
       "      --bg-color: #E8F0FE;\n",
       "      --fill-color: #1967D2;\n",
       "      --hover-bg-color: #E2EBFA;\n",
       "      --hover-fill-color: #174EA6;\n",
       "      --disabled-fill-color: #AAA;\n",
       "      --disabled-bg-color: #DDD;\n",
       "  }\n",
       "\n",
       "  [theme=dark] .colab-df-quickchart {\n",
       "      --bg-color: #3B4455;\n",
       "      --fill-color: #D2E3FC;\n",
       "      --hover-bg-color: #434B5C;\n",
       "      --hover-fill-color: #FFFFFF;\n",
       "      --disabled-bg-color: #3B4455;\n",
       "      --disabled-fill-color: #666;\n",
       "  }\n",
       "\n",
       "  .colab-df-quickchart {\n",
       "    background-color: var(--bg-color);\n",
       "    border: none;\n",
       "    border-radius: 50%;\n",
       "    cursor: pointer;\n",
       "    display: none;\n",
       "    fill: var(--fill-color);\n",
       "    height: 32px;\n",
       "    padding: 0;\n",
       "    width: 32px;\n",
       "  }\n",
       "\n",
       "  .colab-df-quickchart:hover {\n",
       "    background-color: var(--hover-bg-color);\n",
       "    box-shadow: 0 1px 2px rgba(60, 64, 67, 0.3), 0 1px 3px 1px rgba(60, 64, 67, 0.15);\n",
       "    fill: var(--button-hover-fill-color);\n",
       "  }\n",
       "\n",
       "  .colab-df-quickchart-complete:disabled,\n",
       "  .colab-df-quickchart-complete:disabled:hover {\n",
       "    background-color: var(--disabled-bg-color);\n",
       "    fill: var(--disabled-fill-color);\n",
       "    box-shadow: none;\n",
       "  }\n",
       "\n",
       "  .colab-df-spinner {\n",
       "    border: 2px solid var(--fill-color);\n",
       "    border-color: transparent;\n",
       "    border-bottom-color: var(--fill-color);\n",
       "    animation:\n",
       "      spin 1s steps(1) infinite;\n",
       "  }\n",
       "\n",
       "  @keyframes spin {\n",
       "    0% {\n",
       "      border-color: transparent;\n",
       "      border-bottom-color: var(--fill-color);\n",
       "      border-left-color: var(--fill-color);\n",
       "    }\n",
       "    20% {\n",
       "      border-color: transparent;\n",
       "      border-left-color: var(--fill-color);\n",
       "      border-top-color: var(--fill-color);\n",
       "    }\n",
       "    30% {\n",
       "      border-color: transparent;\n",
       "      border-left-color: var(--fill-color);\n",
       "      border-top-color: var(--fill-color);\n",
       "      border-right-color: var(--fill-color);\n",
       "    }\n",
       "    40% {\n",
       "      border-color: transparent;\n",
       "      border-right-color: var(--fill-color);\n",
       "      border-top-color: var(--fill-color);\n",
       "    }\n",
       "    60% {\n",
       "      border-color: transparent;\n",
       "      border-right-color: var(--fill-color);\n",
       "    }\n",
       "    80% {\n",
       "      border-color: transparent;\n",
       "      border-right-color: var(--fill-color);\n",
       "      border-bottom-color: var(--fill-color);\n",
       "    }\n",
       "    90% {\n",
       "      border-color: transparent;\n",
       "      border-bottom-color: var(--fill-color);\n",
       "    }\n",
       "  }\n",
       "</style>\n",
       "\n",
       "  <script>\n",
       "    async function quickchart(key) {\n",
       "      const quickchartButtonEl =\n",
       "        document.querySelector('#' + key + ' button');\n",
       "      quickchartButtonEl.disabled = true;  // To prevent multiple clicks.\n",
       "      quickchartButtonEl.classList.add('colab-df-spinner');\n",
       "      try {\n",
       "        const charts = await google.colab.kernel.invokeFunction(\n",
       "            'suggestCharts', [key], {});\n",
       "      } catch (error) {\n",
       "        console.error('Error during call to suggestCharts:', error);\n",
       "      }\n",
       "      quickchartButtonEl.classList.remove('colab-df-spinner');\n",
       "      quickchartButtonEl.classList.add('colab-df-quickchart-complete');\n",
       "    }\n",
       "    (() => {\n",
       "      let quickchartButtonEl =\n",
       "        document.querySelector('#df-0488035f-2e1b-4628-951a-a18e576f5278 button');\n",
       "      quickchartButtonEl.style.display =\n",
       "        google.colab.kernel.accessAllowed ? 'block' : 'none';\n",
       "    })();\n",
       "  </script>\n",
       "</div>\n",
       "    </div>\n",
       "  </div>\n"
      ],
      "text/plain": [
       "   essay_id  essay_set                                              essay  \\\n",
       "0         1          1  Dear local newspaper, I think effects computer...   \n",
       "1         2          1  Dear @CAPS1 @CAPS2, I believe that using compu...   \n",
       "2         3          1  Dear, @CAPS1 @CAPS2 @CAPS3 More and more peopl...   \n",
       "3         4          1  Dear Local Newspaper, @CAPS1 I have found that...   \n",
       "4         5          1  Dear @LOCATION1, I know having computers has a...   \n",
       "\n",
       "   domain1_score  \n",
       "0              6  \n",
       "1              7  \n",
       "2              5  \n",
       "3              8  \n",
       "4              6  "
      ]
     },
     "execution_count": 66,
     "metadata": {},
     "output_type": "execute_result"
    }
   ],
   "source": [
    "df['domain1_score']=temp['final_score']\n",
    "df.head()"
   ]
  },
  {
   "cell_type": "code",
   "execution_count": 67,
   "id": "fLUikeOkJyRU",
   "metadata": {
    "colab": {
     "base_uri": "https://localhost:8080/",
     "height": 201
    },
    "id": "fLUikeOkJyRU",
    "outputId": "2c154d78-6a7f-414a-fe8f-4475001eb272"
   },
   "outputs": [
    {
     "data": {
      "application/vnd.google.colaboratory.intrinsic+json": {
       "type": "string"
      },
      "text/plain": [
       "\"Dear local newspaper, I think effects computers have on people are great learning skills/affects because they give us time to chat with friends/new people, helps us learn about the globe(astronomy) and keeps us out of troble! Thing about! Dont you think so? How would you feel if your teenager is always on the phone with friends! Do you ever time to chat with your friends or buisness partner about things. Well now - there's a new way to chat the computer, theirs plenty of sites on the internet to do so: @ORGANIZATION1, @ORGANIZATION2, @CAPS1, facebook, myspace ect. Just think now while your setting up meeting with your boss on the computer, your teenager is having fun on the phone not rushing to get off cause you want to use it. How did you learn about other countrys/states outside of yours? Well I have by computer/internet, it's a new way to learn about what going on in our time! You might think your child spends a lot of time on the computer, but ask them so question about the economy, sea floor spreading or even about the @DATE1's you'll be surprise at how much he/she knows. Believe it or not the computer is much interesting then in class all day reading out of books. If your child is home on your computer or at a local library, it's better than being out with friends being fresh, or being perpressured to doing something they know isnt right. You might not know where your child is, @CAPS2 forbidde in a hospital bed because of a drive-by. Rather than your child on the computer learning, chatting or just playing games, safe and sound in your home or community place. Now I hope you have reached a point to understand and agree with me, because computers can have great effects on you or child because it gives us time to chat with friends/new people, helps us learn about the globe and believe or not keeps us out of troble. Thank you for listening.\""
      ]
     },
     "execution_count": 67,
     "metadata": {},
     "output_type": "execute_result"
    }
   ],
   "source": [
    "df['essay'][0]"
   ]
  },
  {
   "cell_type": "code",
   "execution_count": 68,
   "id": "6JF3zaqNJ9Od",
   "metadata": {
    "id": "6JF3zaqNJ9Od"
   },
   "outputs": [],
   "source": [
    "#Make Dataset\n",
    "y = df['domain1_score']\n",
    "df.drop('domain1_score',inplace=True,axis=1)\n",
    "\n",
    "X=df"
   ]
  },
  {
   "cell_type": "code",
   "execution_count": 69,
   "id": "gmdJ_rDVKBc3",
   "metadata": {
    "id": "gmdJ_rDVKBc3"
   },
   "outputs": [],
   "source": [
    "X_train, X_test, y_train, y_test = train_test_split(X, y, test_size=0.3, random_state=42)"
   ]
  },
  {
   "cell_type": "code",
   "execution_count": 70,
   "id": "0BTXBfCIKC7G",
   "metadata": {
    "colab": {
     "base_uri": "https://localhost:8080/"
    },
    "id": "0BTXBfCIKC7G",
    "outputId": "62360d5c-2d26-4a40-bb8b-8dcc11dc623f"
   },
   "outputs": [
    {
     "name": "stdout",
     "output_type": "stream",
     "text": [
      "(9083, 3)\n",
      "(9083,)\n",
      "(3893, 3)\n",
      "(3893,)\n"
     ]
    }
   ],
   "source": [
    "print(X_train.shape)\n",
    "print(y_train.shape)\n",
    "print(X_test.shape)\n",
    "print(y_test.shape)"
   ]
  },
  {
   "cell_type": "code",
   "execution_count": 71,
   "id": "0kDZv43cKObq",
   "metadata": {
    "colab": {
     "base_uri": "https://localhost:8080/",
     "height": 206
    },
    "id": "0kDZv43cKObq",
    "outputId": "679d47cf-5758-4b28-ebb4-09ab366aae5d"
   },
   "outputs": [
    {
     "data": {
      "text/html": [
       "\n",
       "  <div id=\"df-a6cf6e2b-b31a-4a11-9d5d-f8b426a4f817\" class=\"colab-df-container\">\n",
       "    <div>\n",
       "<style scoped>\n",
       "    .dataframe tbody tr th:only-of-type {\n",
       "        vertical-align: middle;\n",
       "    }\n",
       "\n",
       "    .dataframe tbody tr th {\n",
       "        vertical-align: top;\n",
       "    }\n",
       "\n",
       "    .dataframe thead th {\n",
       "        text-align: right;\n",
       "    }\n",
       "</style>\n",
       "<table border=\"1\" class=\"dataframe\">\n",
       "  <thead>\n",
       "    <tr style=\"text-align: right;\">\n",
       "      <th></th>\n",
       "      <th>essay_id</th>\n",
       "      <th>essay_set</th>\n",
       "      <th>essay</th>\n",
       "    </tr>\n",
       "  </thead>\n",
       "  <tbody>\n",
       "    <tr>\n",
       "      <th>12481</th>\n",
       "      <td>21003</td>\n",
       "      <td>8</td>\n",
       "      <td>It's the first day of high school and your gu...</td>\n",
       "    </tr>\n",
       "    <tr>\n",
       "      <th>6425</th>\n",
       "      <td>9982</td>\n",
       "      <td>4</td>\n",
       "      <td>The author concludes the story with that parag...</td>\n",
       "    </tr>\n",
       "    <tr>\n",
       "      <th>4989</th>\n",
       "      <td>7388</td>\n",
       "      <td>3</td>\n",
       "      <td>Many things that the author talks about in the...</td>\n",
       "    </tr>\n",
       "    <tr>\n",
       "      <th>12903</th>\n",
       "      <td>21536</td>\n",
       "      <td>8</td>\n",
       "      <td>Have you ever had a memorable time, where you...</td>\n",
       "    </tr>\n",
       "    <tr>\n",
       "      <th>10239</th>\n",
       "      <td>16189</td>\n",
       "      <td>6</td>\n",
       "      <td>As a result of the idea to build a mooring mas...</td>\n",
       "    </tr>\n",
       "  </tbody>\n",
       "</table>\n",
       "</div>\n",
       "    <div class=\"colab-df-buttons\">\n",
       "\n",
       "  <div class=\"colab-df-container\">\n",
       "    <button class=\"colab-df-convert\" onclick=\"convertToInteractive('df-a6cf6e2b-b31a-4a11-9d5d-f8b426a4f817')\"\n",
       "            title=\"Convert this dataframe to an interactive table.\"\n",
       "            style=\"display:none;\">\n",
       "\n",
       "  <svg xmlns=\"http://www.w3.org/2000/svg\" height=\"24px\" viewBox=\"0 -960 960 960\">\n",
       "    <path d=\"M120-120v-720h720v720H120Zm60-500h600v-160H180v160Zm220 220h160v-160H400v160Zm0 220h160v-160H400v160ZM180-400h160v-160H180v160Zm440 0h160v-160H620v160ZM180-180h160v-160H180v160Zm440 0h160v-160H620v160Z\"/>\n",
       "  </svg>\n",
       "    </button>\n",
       "\n",
       "  <style>\n",
       "    .colab-df-container {\n",
       "      display:flex;\n",
       "      gap: 12px;\n",
       "    }\n",
       "\n",
       "    .colab-df-convert {\n",
       "      background-color: #E8F0FE;\n",
       "      border: none;\n",
       "      border-radius: 50%;\n",
       "      cursor: pointer;\n",
       "      display: none;\n",
       "      fill: #1967D2;\n",
       "      height: 32px;\n",
       "      padding: 0 0 0 0;\n",
       "      width: 32px;\n",
       "    }\n",
       "\n",
       "    .colab-df-convert:hover {\n",
       "      background-color: #E2EBFA;\n",
       "      box-shadow: 0px 1px 2px rgba(60, 64, 67, 0.3), 0px 1px 3px 1px rgba(60, 64, 67, 0.15);\n",
       "      fill: #174EA6;\n",
       "    }\n",
       "\n",
       "    .colab-df-buttons div {\n",
       "      margin-bottom: 4px;\n",
       "    }\n",
       "\n",
       "    [theme=dark] .colab-df-convert {\n",
       "      background-color: #3B4455;\n",
       "      fill: #D2E3FC;\n",
       "    }\n",
       "\n",
       "    [theme=dark] .colab-df-convert:hover {\n",
       "      background-color: #434B5C;\n",
       "      box-shadow: 0px 1px 3px 1px rgba(0, 0, 0, 0.15);\n",
       "      filter: drop-shadow(0px 1px 2px rgba(0, 0, 0, 0.3));\n",
       "      fill: #FFFFFF;\n",
       "    }\n",
       "  </style>\n",
       "\n",
       "    <script>\n",
       "      const buttonEl =\n",
       "        document.querySelector('#df-a6cf6e2b-b31a-4a11-9d5d-f8b426a4f817 button.colab-df-convert');\n",
       "      buttonEl.style.display =\n",
       "        google.colab.kernel.accessAllowed ? 'block' : 'none';\n",
       "\n",
       "      async function convertToInteractive(key) {\n",
       "        const element = document.querySelector('#df-a6cf6e2b-b31a-4a11-9d5d-f8b426a4f817');\n",
       "        const dataTable =\n",
       "          await google.colab.kernel.invokeFunction('convertToInteractive',\n",
       "                                                    [key], {});\n",
       "        if (!dataTable) return;\n",
       "\n",
       "        const docLinkHtml = 'Like what you see? Visit the ' +\n",
       "          '<a target=\"_blank\" href=https://colab.research.google.com/notebooks/data_table.ipynb>data table notebook</a>'\n",
       "          + ' to learn more about interactive tables.';\n",
       "        element.innerHTML = '';\n",
       "        dataTable['output_type'] = 'display_data';\n",
       "        await google.colab.output.renderOutput(dataTable, element);\n",
       "        const docLink = document.createElement('div');\n",
       "        docLink.innerHTML = docLinkHtml;\n",
       "        element.appendChild(docLink);\n",
       "      }\n",
       "    </script>\n",
       "  </div>\n",
       "\n",
       "\n",
       "<div id=\"df-efc509e2-b9f8-461b-bbbf-6b29a6f0570d\">\n",
       "  <button class=\"colab-df-quickchart\" onclick=\"quickchart('df-efc509e2-b9f8-461b-bbbf-6b29a6f0570d')\"\n",
       "            title=\"Suggest charts\"\n",
       "            style=\"display:none;\">\n",
       "\n",
       "<svg xmlns=\"http://www.w3.org/2000/svg\" height=\"24px\"viewBox=\"0 0 24 24\"\n",
       "     width=\"24px\">\n",
       "    <g>\n",
       "        <path d=\"M19 3H5c-1.1 0-2 .9-2 2v14c0 1.1.9 2 2 2h14c1.1 0 2-.9 2-2V5c0-1.1-.9-2-2-2zM9 17H7v-7h2v7zm4 0h-2V7h2v10zm4 0h-2v-4h2v4z\"/>\n",
       "    </g>\n",
       "</svg>\n",
       "  </button>\n",
       "\n",
       "<style>\n",
       "  .colab-df-quickchart {\n",
       "      --bg-color: #E8F0FE;\n",
       "      --fill-color: #1967D2;\n",
       "      --hover-bg-color: #E2EBFA;\n",
       "      --hover-fill-color: #174EA6;\n",
       "      --disabled-fill-color: #AAA;\n",
       "      --disabled-bg-color: #DDD;\n",
       "  }\n",
       "\n",
       "  [theme=dark] .colab-df-quickchart {\n",
       "      --bg-color: #3B4455;\n",
       "      --fill-color: #D2E3FC;\n",
       "      --hover-bg-color: #434B5C;\n",
       "      --hover-fill-color: #FFFFFF;\n",
       "      --disabled-bg-color: #3B4455;\n",
       "      --disabled-fill-color: #666;\n",
       "  }\n",
       "\n",
       "  .colab-df-quickchart {\n",
       "    background-color: var(--bg-color);\n",
       "    border: none;\n",
       "    border-radius: 50%;\n",
       "    cursor: pointer;\n",
       "    display: none;\n",
       "    fill: var(--fill-color);\n",
       "    height: 32px;\n",
       "    padding: 0;\n",
       "    width: 32px;\n",
       "  }\n",
       "\n",
       "  .colab-df-quickchart:hover {\n",
       "    background-color: var(--hover-bg-color);\n",
       "    box-shadow: 0 1px 2px rgba(60, 64, 67, 0.3), 0 1px 3px 1px rgba(60, 64, 67, 0.15);\n",
       "    fill: var(--button-hover-fill-color);\n",
       "  }\n",
       "\n",
       "  .colab-df-quickchart-complete:disabled,\n",
       "  .colab-df-quickchart-complete:disabled:hover {\n",
       "    background-color: var(--disabled-bg-color);\n",
       "    fill: var(--disabled-fill-color);\n",
       "    box-shadow: none;\n",
       "  }\n",
       "\n",
       "  .colab-df-spinner {\n",
       "    border: 2px solid var(--fill-color);\n",
       "    border-color: transparent;\n",
       "    border-bottom-color: var(--fill-color);\n",
       "    animation:\n",
       "      spin 1s steps(1) infinite;\n",
       "  }\n",
       "\n",
       "  @keyframes spin {\n",
       "    0% {\n",
       "      border-color: transparent;\n",
       "      border-bottom-color: var(--fill-color);\n",
       "      border-left-color: var(--fill-color);\n",
       "    }\n",
       "    20% {\n",
       "      border-color: transparent;\n",
       "      border-left-color: var(--fill-color);\n",
       "      border-top-color: var(--fill-color);\n",
       "    }\n",
       "    30% {\n",
       "      border-color: transparent;\n",
       "      border-left-color: var(--fill-color);\n",
       "      border-top-color: var(--fill-color);\n",
       "      border-right-color: var(--fill-color);\n",
       "    }\n",
       "    40% {\n",
       "      border-color: transparent;\n",
       "      border-right-color: var(--fill-color);\n",
       "      border-top-color: var(--fill-color);\n",
       "    }\n",
       "    60% {\n",
       "      border-color: transparent;\n",
       "      border-right-color: var(--fill-color);\n",
       "    }\n",
       "    80% {\n",
       "      border-color: transparent;\n",
       "      border-right-color: var(--fill-color);\n",
       "      border-bottom-color: var(--fill-color);\n",
       "    }\n",
       "    90% {\n",
       "      border-color: transparent;\n",
       "      border-bottom-color: var(--fill-color);\n",
       "    }\n",
       "  }\n",
       "</style>\n",
       "\n",
       "  <script>\n",
       "    async function quickchart(key) {\n",
       "      const quickchartButtonEl =\n",
       "        document.querySelector('#' + key + ' button');\n",
       "      quickchartButtonEl.disabled = true;  // To prevent multiple clicks.\n",
       "      quickchartButtonEl.classList.add('colab-df-spinner');\n",
       "      try {\n",
       "        const charts = await google.colab.kernel.invokeFunction(\n",
       "            'suggestCharts', [key], {});\n",
       "      } catch (error) {\n",
       "        console.error('Error during call to suggestCharts:', error);\n",
       "      }\n",
       "      quickchartButtonEl.classList.remove('colab-df-spinner');\n",
       "      quickchartButtonEl.classList.add('colab-df-quickchart-complete');\n",
       "    }\n",
       "    (() => {\n",
       "      let quickchartButtonEl =\n",
       "        document.querySelector('#df-efc509e2-b9f8-461b-bbbf-6b29a6f0570d button');\n",
       "      quickchartButtonEl.style.display =\n",
       "        google.colab.kernel.accessAllowed ? 'block' : 'none';\n",
       "    })();\n",
       "  </script>\n",
       "</div>\n",
       "    </div>\n",
       "  </div>\n"
      ],
      "text/plain": [
       "       essay_id  essay_set                                              essay\n",
       "12481     21003          8   It's the first day of high school and your gu...\n",
       "6425       9982          4  The author concludes the story with that parag...\n",
       "4989       7388          3  Many things that the author talks about in the...\n",
       "12903     21536          8   Have you ever had a memorable time, where you...\n",
       "10239     16189          6  As a result of the idea to build a mooring mas..."
      ]
     },
     "execution_count": 71,
     "metadata": {},
     "output_type": "execute_result"
    }
   ],
   "source": [
    "X_train.head()"
   ]
  },
  {
   "cell_type": "markdown",
   "id": "QgvPUks2B6ZS",
   "metadata": {
    "id": "QgvPUks2B6ZS"
   },
   "source": [
    "## Data Preprocessing"
   ]
  },
  {
   "cell_type": "code",
   "execution_count": 72,
   "id": "1sPEQZVplGi-",
   "metadata": {
    "id": "1sPEQZVplGi-"
   },
   "outputs": [],
   "source": [
    "train_e = X_train['essay'].tolist()\n",
    "test_e = X_test['essay'].tolist()\n",
    "\n",
    "train_sents=[]\n",
    "test_sents=[]\n",
    "\n",
    "stop_words = set(stopwords.words('english'))"
   ]
  },
  {
   "cell_type": "code",
   "execution_count": 73,
   "id": "j6t3BSXxKs-m",
   "metadata": {
    "colab": {
     "base_uri": "https://localhost:8080/"
    },
    "id": "j6t3BSXxKs-m",
    "outputId": "899e79eb-9681-4d33-f232-74029362d08c"
   },
   "outputs": [
    {
     "name": "stdout",
     "output_type": "stream",
     "text": [
      "['I', 'boy']\n"
     ]
    }
   ],
   "source": [
    "# Converting setence into set of words\n",
    "def sent2word(x):\n",
    "    x=re.sub(\"[^A-Za-z]\",\" \",x)\n",
    "    x.lower()\n",
    "    filtered_sentence = []\n",
    "    words=x.split()\n",
    "    for w in words:\n",
    "        if w not in stop_words:\n",
    "            filtered_sentence.append(w)\n",
    "    return filtered_sentence\n",
    "\n",
    "print(sent2word(\"I am a boy.\"))"
   ]
  },
  {
   "cell_type": "code",
   "execution_count": null,
   "id": "B1CvQ4PblG3M",
   "metadata": {
    "colab": {
     "base_uri": "https://localhost:8080/"
    },
    "id": "B1CvQ4PblG3M",
    "outputId": "d98a0b75-3cad-458a-ad96-3f1b2c6e576e"
   },
   "outputs": [
    {
     "name": "stdout",
     "output_type": "stream",
     "text": [
      "[['For', 'many', 'years', 'I', 'interested', 'studying', 'international', 'relations'], ['My', 'interest', 'pursuing', 'field', 'stems', 'several', 'factors', 'affected'], ['First', 'I', 'exposed', 'international', 'affairs', 'throughout', 'life'], ['With', 'father', 'two', 'brothers', 'Saudi', 'Foreign', 'Service', 'I', 'grown', 'shadow', 'inter', 'national', 'affairs'], ['Second', 'I', 'fascinated', 'history', 'economics', 'diplomacy'], ['I', 'believe', 'study', 'international', 'relations', 'I', 'effectively', 'satisfy', 'curiosity', 'fields'], ['A', 'third', 'factor', 'affected', 'interest', 'international', 'relations', 'patriotism'], ['Through', 'Foreign', 'Service', 'I', 'would', 'opportunity', 'serve', 'country', 'also', 'chance', 'help', 'bridge', 'gaps', 'country', 'others'], ['Finally', 'Saudi', 'living', 'abroad', 'I', 'bridging', 'cultures', 'throughout', 'life'], ['This', 'experience', 'taught', 'look', 'differences', 'compromise', 'similarities', 'synthesize', 'order', 'balance', 'different', 'cultures'], ['In', 'short', 'I', 'believe', 'experiences', 'life', 'combined', 'rigorous', 'academic', 'education', 'enable', 'pursue', 'successful', 'career', 'Saudi', 'Foreign', 'Service']]\n"
     ]
    }
   ],
   "source": [
    "# Converting essay into words\n",
    "def essay2word(essay):\n",
    "    essay = essay.strip()\n",
    "    tokenizer = nltk.data.load('tokenizers/punkt/english.pickle')\n",
    "    raw = tokenizer.tokenize(essay)\n",
    "    final_words=[]\n",
    "    for i in raw:\n",
    "        if(len(i)>0):\n",
    "            final_words.append(sent2word(i))\n",
    "    return final_words\n",
    "\n",
    "print(essay2word(\"For many years, I have been interested in studying international relations. My interest in pursuing this field stems from several factors which have affected me. First, I have been exposed to international affairs throughout my life. With my father and two of my brothers in the Saudi Foreign Service, I have grown up under the shadow of inter-national affairs. Second, I am fascinated by history, economics, and diplomacy. I believe, through the study of international relations, I can effectively satisfy my curiosity in these fields. A third factor which has affected my interest in international relations is patriotism. Through the Foreign Service, I would not only have the opportunity to serve my country, but also have the chance to help bridge gaps between my country and others. Finally, as a Saudi living abroad, I have been bridging cultures throughout my life. This experience has taught me to look for differences to compromise and similarities to synthesize in order to balance different cultures. In short, I believe that my experiences in life, combined with a rigorous academic education, will enable me to pursue a successful career in the Saudi Foreign Service.\"))"
   ]
  },
  {
   "cell_type": "code",
   "execution_count": null,
   "id": "N2sY-kSwmCaa",
   "metadata": {
    "id": "N2sY-kSwmCaa"
   },
   "outputs": [],
   "source": [
    "for i in train_e:\n",
    "    train_sents+=essay2word(i)\n",
    "\n",
    "for i in test_e:\n",
    "    test_sents+=essay2word(i)"
   ]
  },
  {
   "cell_type": "code",
   "execution_count": null,
   "id": "37mm37J-mJU-",
   "metadata": {
    "colab": {
     "base_uri": "https://localhost:8080/"
    },
    "id": "37mm37J-mJU-",
    "outputId": "bef9e5f0-13df-49f6-a944-4002d39232e5"
   },
   "outputs": [
    {
     "data": {
      "text/plain": [
       "116500"
      ]
     },
     "execution_count": 15,
     "metadata": {},
     "output_type": "execute_result"
    }
   ],
   "source": [
    "len(train_sents)"
   ]
  },
  {
   "cell_type": "markdown",
   "id": "51iwJJUxm1BP",
   "metadata": {
    "id": "51iwJJUxm1BP"
   },
   "source": [
    "## Training a word2vec model"
   ]
  },
  {
   "cell_type": "code",
   "execution_count": null,
   "id": "U7AcVkKNmMjE",
   "metadata": {
    "colab": {
     "base_uri": "https://localhost:8080/"
    },
    "id": "U7AcVkKNmMjE",
    "outputId": "29ae5612-1ca7-42b6-e9d7-560d764ac0c8"
   },
   "outputs": [
    {
     "name": "stderr",
     "output_type": "stream",
     "text": [
      "<ipython-input-16-41146246ca8d>:16: DeprecationWarning: Call to deprecated `init_sims` (Gensim 4.0.0 implemented internal optimizations that make calls to init_sims() unnecessary. init_sims() is now obsoleted and will be completely removed in future versions. See https://github.com/RaRe-Technologies/gensim/wiki/Migrating-from-Gensim-3.x-to-4).\n",
      "  model.init_sims(replace=True)\n",
      "WARNING:gensim.models.keyedvectors:destructive init_sims(replace=True) deprecated & no longer required for space-efficiency\n"
     ]
    }
   ],
   "source": [
    "#Training Word2Vec model\n",
    "num_features = 300\n",
    "min_word_count = 40\n",
    "num_workers = 4\n",
    "context = 10\n",
    "downsampling = 1e-3\n",
    "\n",
    "model = Word2Vec(train_sents,\n",
    "                 workers=num_workers,\n",
    "                 vector_size=num_features,\n",
    "                 min_count = min_word_count,\n",
    "                 epochs=20,\n",
    "                 window = context,\n",
    "                 sample = downsampling)\n",
    "\n",
    "model.init_sims(replace=True)"
   ]
  },
  {
   "cell_type": "code",
   "execution_count": null,
   "id": "ddk5J_K0m8ZU",
   "metadata": {
    "id": "ddk5J_K0m8ZU"
   },
   "outputs": [],
   "source": [
    "model.wv.save_word2vec_format(\"/content/drive/MyDrive/Colab Notebooks/Hewett's Essay/word2vec_model.bin\", binary=True)"
   ]
  },
  {
   "cell_type": "code",
   "execution_count": null,
   "id": "lvYUazUVny0Y",
   "metadata": {
    "colab": {
     "base_uri": "https://localhost:8080/"
    },
    "id": "lvYUazUVny0Y",
    "outputId": "7413c4cc-d5cb-400b-9fa6-324846c021cf"
   },
   "outputs": [
    {
     "name": "stdout",
     "output_type": "stream",
     "text": [
      "[-4.39859554e-02  4.00146097e-02  1.74685623e-02  4.13536653e-02\n",
      " -2.45002229e-02 -4.11658660e-02 -4.56444472e-02  4.77644503e-02\n",
      " -4.89481166e-02 -3.75508629e-02  6.27492964e-02 -4.50452790e-02\n",
      "  2.56170779e-02 -2.06983127e-02  7.67780989e-02  1.82645954e-02\n",
      " -3.28961760e-02  1.01339035e-02 -4.74916995e-02 -6.13938197e-02\n",
      "  5.84007725e-02  3.78347351e-03 -5.41901886e-02 -4.45484966e-02\n",
      " -5.19001000e-02  2.78259479e-02  5.95761463e-02  4.76488583e-02\n",
      "  2.97744237e-02  7.58799352e-03  2.28753202e-02 -6.60892203e-03\n",
      "  3.60513292e-02 -3.38758491e-02  2.77869161e-02 -3.48846950e-02\n",
      "  9.84513611e-02 -2.91154776e-02 -4.50489596e-02  3.15144472e-02\n",
      "  2.27296911e-02  5.68084121e-02  4.61303070e-03  5.01732379e-02\n",
      " -6.62066415e-03 -4.97273356e-03  2.25446373e-02  1.08123403e-02\n",
      " -6.70910440e-03 -8.58014673e-02 -9.05642211e-02 -1.60601586e-02\n",
      "  3.47596481e-02 -8.21966119e-03  5.63386939e-02 -2.46221386e-02\n",
      " -1.10663474e-04  3.40178721e-02 -6.85928296e-03  7.22627491e-02\n",
      "  2.92701945e-02  2.04965798e-03  3.46539691e-02 -6.34856746e-02\n",
      "  9.21817217e-03 -2.44069062e-02  2.50374302e-02  1.06159978e-01\n",
      "  2.60935053e-02  1.96134653e-02  2.11918801e-02 -3.28366235e-02\n",
      " -1.32796429e-02  2.51203142e-02  3.87571938e-02 -2.70302929e-02\n",
      " -2.56833881e-02 -5.09162024e-02 -2.52783373e-02  5.40018901e-02\n",
      " -2.81772725e-02  7.56501406e-02  2.14469191e-02 -6.71071513e-03\n",
      "  3.01906317e-02  1.28123127e-02  2.54451819e-02 -6.47169054e-02\n",
      "  6.50477596e-04  5.68162128e-02 -7.75891393e-02 -5.80791943e-02\n",
      "  4.96643707e-02  5.91180548e-02  8.55770260e-02 -2.45231818e-02\n",
      " -3.79336253e-02 -8.60295817e-02  3.60167176e-02  9.52926725e-02\n",
      " -2.46908627e-02  2.52277944e-02  5.57649881e-03  8.79986677e-03\n",
      "  6.92316964e-02  6.17233664e-02 -4.23090495e-02  7.59853348e-02\n",
      " -2.59488896e-02 -7.03621209e-02 -6.29285723e-03 -5.76515906e-02\n",
      " -1.52090676e-02  7.80189484e-02  5.03557734e-02 -2.16730479e-02\n",
      "  2.41919374e-03  8.09354335e-02 -9.36817378e-02  3.74604091e-02\n",
      " -1.47326328e-02 -7.78968632e-02 -1.50982607e-02 -4.78019565e-02\n",
      "  5.02672084e-02 -1.39467111e-02  1.57304630e-02  1.51919723e-02\n",
      " -4.62076738e-02  3.43760941e-04 -5.60909957e-02 -9.21905413e-02\n",
      " -2.79780664e-02 -4.20763344e-03  5.76738734e-03 -1.02611870e-01\n",
      "  6.42554834e-02  3.02481167e-02  1.74801409e-01  3.43456790e-02\n",
      "  3.92952859e-02  3.24798562e-02  1.25165815e-02 -9.92491283e-03\n",
      " -1.07087493e-02  4.78821397e-02  4.14762385e-02  6.19504973e-02\n",
      "  7.15242652e-03  7.42612872e-03  1.55653916e-02  6.05067536e-02\n",
      "  1.59526095e-02  5.56758083e-02  2.28639524e-02  1.24428812e-02\n",
      "  1.59264356e-02  3.96352783e-02 -1.08297756e-02  3.31224315e-02\n",
      " -4.95610908e-02  5.13773710e-02  4.25339863e-02 -2.05433685e-02\n",
      "  3.08483653e-02  8.88802484e-03  4.66714203e-02 -1.69627666e-02\n",
      "  8.95116199e-03 -3.64361666e-02  4.28406708e-02 -8.75080824e-02\n",
      " -1.28523819e-02  4.56489250e-02  2.92637702e-02  8.30620900e-03\n",
      " -3.23046222e-02  2.25654021e-02  6.99480772e-02 -3.04453336e-02\n",
      "  1.95492543e-02 -3.32979411e-02  7.84709156e-02  1.29499529e-02\n",
      " -1.85823161e-02 -7.32537135e-02 -4.88712937e-02 -8.34879428e-02\n",
      "  1.19347591e-03  1.73545107e-02  8.07923824e-03 -3.49058248e-02\n",
      "  1.65706556e-02  4.87894565e-02 -2.19531544e-02  3.57048102e-02\n",
      "  3.76297608e-02 -2.74050310e-02 -4.92520109e-02 -2.42650844e-02\n",
      "  8.11154954e-04  4.53518890e-03 -9.99739394e-03  1.09111527e-02\n",
      " -3.01000290e-03  6.55287951e-02  2.05468759e-02  3.50670610e-03\n",
      " -3.32019106e-03  5.90168312e-02  4.71669286e-02  2.16170084e-02\n",
      "  6.42056912e-02 -1.53210154e-03  4.48464379e-02  7.81672169e-03\n",
      "  5.98954000e-02  1.13503881e-01 -4.29598391e-02  1.15483887e-02\n",
      " -1.15766644e-01 -4.30542380e-02 -2.14661732e-02  2.62145996e-02\n",
      " -8.70249793e-03 -3.64276371e-03  7.55746961e-02 -2.28153914e-02\n",
      " -1.22501753e-01  1.01064593e-02  3.77912596e-02 -3.37457508e-02\n",
      " -6.58993274e-02 -2.45539583e-02 -2.70917639e-02 -6.18903227e-02\n",
      " -5.04533276e-02  3.93313207e-02  3.97450067e-02  1.18882209e-02\n",
      "  2.14702450e-02  1.13492077e-02 -4.83301654e-03  4.40361351e-02\n",
      " -8.07026774e-02  1.23104848e-01 -3.56912464e-02 -1.76969636e-02\n",
      "  1.42491581e-02  3.28905284e-02 -4.43121269e-02 -3.45401242e-02\n",
      " -2.46266462e-02 -1.25241093e-03 -3.84322703e-02 -6.86594099e-02\n",
      " -8.21086317e-02 -3.04100886e-02 -4.03097123e-02 -9.41272825e-04\n",
      " -5.17110825e-02  2.50839833e-02  1.55547615e-02  2.99001355e-02\n",
      " -1.42436055e-02  3.88333853e-03  4.32080366e-02  1.36150112e-02\n",
      " -8.00786167e-03  4.29845154e-02  1.48373097e-02 -1.15875723e-02\n",
      "  3.48833054e-02  9.43586417e-03  6.22612312e-02  5.26187643e-02\n",
      " -3.98922414e-02 -1.33410189e-03  8.97919834e-02 -2.79264413e-02\n",
      " -9.99505166e-03 -5.17932028e-02 -2.14967765e-02 -9.91209876e-04\n",
      " -3.11511196e-02 -1.10163353e-02 -2.94897780e-02  2.80915536e-02\n",
      "  4.84196730e-02 -8.80888253e-02  2.69640088e-02  5.19266613e-02\n",
      "  3.58695015e-02  4.70881499e-02 -4.56855260e-03 -4.23310101e-02\n",
      "  1.54441688e-02 -8.64924937e-02  5.44124981e-03 -1.01187490e-01]\n",
      "(300,)\n"
     ]
    }
   ],
   "source": [
    "# Function to make vector from words\n",
    "def makeVec(words, model, num_features):\n",
    "    vec = np.zeros((num_features,),dtype=\"float32\")\n",
    "    noOfWords = 0.\n",
    "    index2word_set = set(model.wv.index_to_key)\n",
    "    for i in words:\n",
    "        if i in index2word_set:\n",
    "            noOfWords += 1\n",
    "            vec = np.add(vec,model.wv[i])\n",
    "    vec = np.divide(vec,noOfWords)\n",
    "    return vec\n",
    "\n",
    "vector = makeVec([\"I\", \"am\", \"a\", \"boy\"], model, 300)\n",
    "print(vector)\n",
    "print(vector.shape)"
   ]
  },
  {
   "cell_type": "code",
   "execution_count": null,
   "id": "GmzGXDJNo91T",
   "metadata": {
    "id": "GmzGXDJNo91T"
   },
   "outputs": [],
   "source": [
    "# Function to get vectors from an essay\n",
    "def getVecs(essays, model, num_features):\n",
    "    c=0\n",
    "    essay_vecs = np.zeros((len(essays),num_features),dtype=\"float32\")\n",
    "    for i in essays:\n",
    "        essay_vecs[c] = makeVec(i, model, num_features)\n",
    "        c+=1\n",
    "    return essay_vecs"
   ]
  },
  {
   "cell_type": "code",
   "execution_count": null,
   "id": "YBsI4o73qKUj",
   "metadata": {
    "id": "YBsI4o73qKUj"
   },
   "outputs": [],
   "source": [
    "clean_train=[]\n",
    "for i in train_e:\n",
    "    clean_train.append(sent2word(i))"
   ]
  },
  {
   "cell_type": "code",
   "execution_count": null,
   "id": "IkwhDZy0qPVu",
   "metadata": {
    "colab": {
     "base_uri": "https://localhost:8080/"
    },
    "id": "IkwhDZy0qPVu",
    "outputId": "5b055a4b-efcf-4590-a4b9-2e302b210ccf"
   },
   "outputs": [
    {
     "data": {
      "text/plain": [
       "['It',\n",
       " 'first',\n",
       " 'day',\n",
       " 'high',\n",
       " 'school',\n",
       " 'gut',\n",
       " 'full',\n",
       " 'butterflies',\n",
       " 'make',\n",
       " 'want',\n",
       " 'run',\n",
       " 'bathrooms',\n",
       " 'hide',\n",
       " 'world',\n",
       " 'I',\n",
       " 'CAPS',\n",
       " 'friends',\n",
       " 'yet',\n",
       " 'I',\n",
       " 'shy',\n",
       " 'go',\n",
       " 'join',\n",
       " 'groups',\n",
       " 'I',\n",
       " 'walked',\n",
       " 'classes',\n",
       " 'alone',\n",
       " 'Students',\n",
       " 'would',\n",
       " 'get',\n",
       " 'face',\n",
       " 'wanting',\n",
       " 'know',\n",
       " 'school',\n",
       " 'I',\n",
       " 'came',\n",
       " 'wanted',\n",
       " 'know',\n",
       " 'I',\n",
       " 'remember',\n",
       " 'wanting',\n",
       " 'left',\n",
       " 'alone',\n",
       " 'hidden',\n",
       " 'bubble',\n",
       " 'space',\n",
       " 'Girls',\n",
       " 'would',\n",
       " 'ask',\n",
       " 'CAPS',\n",
       " 'I',\n",
       " 'upset',\n",
       " 'since',\n",
       " 'I',\n",
       " 'smiling',\n",
       " 'fun',\n",
       " 'getting',\n",
       " 'know',\n",
       " 'new',\n",
       " 'classes',\n",
       " 'Lunch',\n",
       " 'much',\n",
       " 'crowded',\n",
       " 'old',\n",
       " 'school',\n",
       " 'Students',\n",
       " 'would',\n",
       " 'sit',\n",
       " 'hallways',\n",
       " 'eating',\n",
       " 'lunch',\n",
       " 'crowd',\n",
       " 'around',\n",
       " 'one',\n",
       " 'big',\n",
       " 'table',\n",
       " 'chattering',\n",
       " 'loudly',\n",
       " 'one',\n",
       " 'another',\n",
       " 'I',\n",
       " 'chewed',\n",
       " 'lip',\n",
       " 'looking',\n",
       " 'spot',\n",
       " 'occupied',\n",
       " 'students',\n",
       " 'I',\n",
       " 'found',\n",
       " 'table',\n",
       " 'near',\n",
       " 'front',\n",
       " 'lunch',\n",
       " 'room',\n",
       " 'empty',\n",
       " 'placed',\n",
       " 'brown',\n",
       " 'lunch',\n",
       " 'sack',\n",
       " 'front',\n",
       " 'eating',\n",
       " 'peanut',\n",
       " 'butter',\n",
       " 'jelly',\n",
       " 'sandwich',\n",
       " 'Two',\n",
       " 'boys',\n",
       " 'two',\n",
       " 'girls',\n",
       " 'rushed',\n",
       " 'settled',\n",
       " 'next',\n",
       " 'laughing',\n",
       " 'one',\n",
       " 'another',\n",
       " 'getting',\n",
       " 'seat',\n",
       " 'next',\n",
       " 'CAPS',\n",
       " 'I',\n",
       " 'PERSON',\n",
       " 'name',\n",
       " 'skinny',\n",
       " 'boy',\n",
       " 'black',\n",
       " 'caps',\n",
       " 'response',\n",
       " 'PERSON',\n",
       " 'I',\n",
       " 'replied',\n",
       " 'stared',\n",
       " 'entire',\n",
       " 'time',\n",
       " 'That',\n",
       " 'pretty',\n",
       " 'name',\n",
       " 'I',\n",
       " 'LOCATION',\n",
       " 'LOCATION',\n",
       " 'met',\n",
       " 'PERSON',\n",
       " 'PERSON',\n",
       " 'funny',\n",
       " 'kid',\n",
       " 'next',\n",
       " 'orange',\n",
       " 'back',\n",
       " 'pack',\n",
       " 'I',\n",
       " 'smiled',\n",
       " 'nodded',\n",
       " 'ORGANIZATION',\n",
       " 'CAPS',\n",
       " 'CAPS',\n",
       " 'shirt',\n",
       " 'PERSON',\n",
       " 'military',\n",
       " 'uniform',\n",
       " 'said',\n",
       " 'CAPS',\n",
       " 'They',\n",
       " 'ate',\n",
       " 'lunch',\n",
       " 'school',\n",
       " 'got',\n",
       " 'pizza',\n",
       " 'sub',\n",
       " 'sandwiches',\n",
       " 'They',\n",
       " 'showed',\n",
       " 'pictures',\n",
       " 'funny',\n",
       " 'events',\n",
       " 'phones',\n",
       " 'everyone',\n",
       " 'even',\n",
       " 'including',\n",
       " 'CAPS',\n",
       " 'kid',\n",
       " 'careful',\n",
       " 'might',\n",
       " 'get',\n",
       " 'razor',\n",
       " 'rash',\n",
       " 'I',\n",
       " 'said',\n",
       " 'laughing',\n",
       " 'little',\n",
       " 'looking',\n",
       " 'picture',\n",
       " 'little',\n",
       " 'boy',\n",
       " 'sliding',\n",
       " 'slide',\n",
       " 'looked',\n",
       " 'like',\n",
       " 'cheese',\n",
       " 'grader',\n",
       " 'PERSON',\n",
       " 'took',\n",
       " 'pepperoni',\n",
       " 'flinging',\n",
       " 'randomly',\n",
       " 'air',\n",
       " 'PERSON',\n",
       " 'going',\n",
       " 'take',\n",
       " 'picture',\n",
       " 'everyone',\n",
       " 'picture',\n",
       " 'id',\n",
       " 'phone',\n",
       " 'PERSON',\n",
       " 'next',\n",
       " 'picture',\n",
       " 'taken',\n",
       " 'pepperoni',\n",
       " 'LOCATION',\n",
       " 'hands',\n",
       " 'slipped',\n",
       " 'landed',\n",
       " 'smack',\n",
       " 'ORGANIZATION',\n",
       " 'face',\n",
       " 'I',\n",
       " 'busted',\n",
       " 'laughing',\n",
       " 'everyone',\n",
       " 'table',\n",
       " 'joined',\n",
       " 'PERSON',\n",
       " 'I',\n",
       " 'clenching',\n",
       " 'stomachs',\n",
       " 'wiping',\n",
       " 'away',\n",
       " 'tears',\n",
       " 'PERSON',\n",
       " 'went',\n",
       " 'bathroom',\n",
       " 'wash',\n",
       " 'away',\n",
       " 'smell',\n",
       " 'face',\n",
       " 'returned',\n",
       " 'PERSON',\n",
       " 'said',\n",
       " 'CAPS',\n",
       " 'word',\n",
       " 'see',\n",
       " 'face',\n",
       " 'I',\n",
       " 'took',\n",
       " 'picture',\n",
       " 'right',\n",
       " 'pepperoni',\n",
       " 'hit',\n",
       " 'face',\n",
       " 'picture',\n",
       " 'hilarious',\n",
       " 'mouth',\n",
       " 'hanging',\n",
       " 'open',\n",
       " 'like',\n",
       " 'going',\n",
       " 'eat',\n",
       " 'something',\n",
       " 'like',\n",
       " 'angry',\n",
       " 'PERSON',\n",
       " 'handed',\n",
       " 'phone',\n",
       " 'one',\n",
       " 'person',\n",
       " 'time',\n",
       " 'started',\n",
       " 'laugh',\n",
       " 'asking',\n",
       " 'PERSON',\n",
       " 'send',\n",
       " 'picture',\n",
       " 'I',\n",
       " 'wondering',\n",
       " 'CAPS',\n",
       " 'I',\n",
       " 'could',\n",
       " 'guys',\n",
       " 'friend',\n",
       " 'I',\n",
       " 'asked',\n",
       " 'looking',\n",
       " 'eye',\n",
       " 'ORGANIZATION',\n",
       " 'one',\n",
       " 'respond',\n",
       " 'CAPS',\n",
       " 'friend',\n",
       " 'PERSON',\n",
       " 'duh',\n",
       " 'CAPS',\n",
       " 'want',\n",
       " 'friend',\n",
       " 'hanging',\n",
       " 'ORGANIZATION',\n",
       " 'teased',\n",
       " 'My',\n",
       " 'twisted',\n",
       " 'gut',\n",
       " 'loosened',\n",
       " 'leaf',\n",
       " 'CAPS',\n",
       " 'probably',\n",
       " 'would',\n",
       " 'made',\n",
       " 'excuse',\n",
       " 'leave',\n",
       " 'PERSON',\n",
       " 'smiled',\n",
       " 'I',\n",
       " 'laughed',\n",
       " 'worrying',\n",
       " 'I',\n",
       " 'fit',\n",
       " 'friends',\n",
       " 'could',\n",
       " 'make',\n",
       " 'laugh',\n",
       " 'hard',\n",
       " 'I',\n",
       " 'pepperoni',\n",
       " 'stuck',\n",
       " 'LOCATION',\n",
       " 'face']"
      ]
     },
     "execution_count": 21,
     "metadata": {},
     "output_type": "execute_result"
    }
   ],
   "source": [
    "clean_train[0]"
   ]
  },
  {
   "cell_type": "code",
   "execution_count": null,
   "id": "MyVfkSzvqyLr",
   "metadata": {
    "colab": {
     "base_uri": "https://localhost:8080/"
    },
    "id": "MyVfkSzvqyLr",
    "outputId": "b779cd19-d859-4ab6-bfb8-2f5c1013ff98"
   },
   "outputs": [
    {
     "data": {
      "text/plain": [
       "9083"
      ]
     },
     "execution_count": 22,
     "metadata": {},
     "output_type": "execute_result"
    }
   ],
   "source": [
    "len(clean_train)"
   ]
  },
  {
   "cell_type": "code",
   "execution_count": null,
   "id": "8BVcEC2ZqQMP",
   "metadata": {
    "id": "8BVcEC2ZqQMP"
   },
   "outputs": [],
   "source": [
    "training_vectors = getVecs(clean_train, model, num_features)"
   ]
  },
  {
   "cell_type": "code",
   "execution_count": null,
   "id": "3yNj1BSrqorQ",
   "metadata": {
    "colab": {
     "base_uri": "https://localhost:8080/"
    },
    "id": "3yNj1BSrqorQ",
    "outputId": "9bf1e53c-67a1-405e-cf31-53bc18f3f6b1"
   },
   "outputs": [
    {
     "data": {
      "text/plain": [
       "(9083, 300)"
      ]
     },
     "execution_count": 24,
     "metadata": {},
     "output_type": "execute_result"
    }
   ],
   "source": [
    "training_vectors.shape"
   ]
  },
  {
   "cell_type": "code",
   "execution_count": null,
   "id": "WDaiR1jqqt_0",
   "metadata": {
    "colab": {
     "base_uri": "https://localhost:8080/"
    },
    "id": "WDaiR1jqqt_0",
    "outputId": "636d2691-a25e-48be-b38a-dc70d1828db3"
   },
   "outputs": [
    {
     "name": "stderr",
     "output_type": "stream",
     "text": [
      "<ipython-input-18-bce1e66b767e>:10: RuntimeWarning: invalid value encountered in divide\n",
      "  vec = np.divide(vec,noOfWords)\n"
     ]
    }
   ],
   "source": [
    "clean_test=[]\n",
    "\n",
    "for i in test_e:\n",
    "    clean_test.append(sent2word(i))\n",
    "testing_vectors = getVecs(clean_test, model, num_features)"
   ]
  },
  {
   "cell_type": "code",
   "execution_count": null,
   "id": "-NXgyXcNrD-4",
   "metadata": {
    "colab": {
     "base_uri": "https://localhost:8080/"
    },
    "id": "-NXgyXcNrD-4",
    "outputId": "1e70f550-0588-4822-cce2-e2e05c16c09b"
   },
   "outputs": [
    {
     "data": {
      "text/plain": [
       "(3893, 300)"
      ]
     },
     "execution_count": 26,
     "metadata": {},
     "output_type": "execute_result"
    }
   ],
   "source": [
    "testing_vectors.shape"
   ]
  },
  {
   "cell_type": "code",
   "execution_count": null,
   "id": "NeEEYNbByzmK",
   "metadata": {
    "id": "NeEEYNbByzmK"
   },
   "outputs": [],
   "source": [
    "tv_df = pd.DataFrame(testing_vectors)\n",
    "tv_df = tv_df.fillna(0) # replacing nan value with 0"
   ]
  },
  {
   "cell_type": "code",
   "execution_count": null,
   "id": "ORtSpYFf0C-d",
   "metadata": {
    "colab": {
     "base_uri": "https://localhost:8080/"
    },
    "id": "ORtSpYFf0C-d",
    "outputId": "abeeef8e-5ddc-4018-aa1b-e0cfb69bf5e2"
   },
   "outputs": [
    {
     "data": {
      "text/plain": [
       "(3893, 300)"
      ]
     },
     "execution_count": 28,
     "metadata": {},
     "output_type": "execute_result"
    }
   ],
   "source": [
    "tv_df.shape"
   ]
  },
  {
   "cell_type": "code",
   "execution_count": null,
   "id": "NhyBocAjrFoY",
   "metadata": {
    "colab": {
     "base_uri": "https://localhost:8080/"
    },
    "id": "NhyBocAjrFoY",
    "outputId": "13241aa0-0339-4938-c854-934b057084bf"
   },
   "outputs": [
    {
     "name": "stdout",
     "output_type": "stream",
     "text": [
      "(9083, 1, 300)\n",
      "(3893, 1, 300)\n"
     ]
    }
   ],
   "source": [
    "training_vectors = np.array(training_vectors)\n",
    "testing_vectors = np.array(tv_df)\n",
    "\n",
    "# Reshaping train and test vectors to 3 dimensions. (1 represnts one timestep)\n",
    "training_vectors = np.reshape(training_vectors, (training_vectors.shape[0], 1, training_vectors.shape[1]))\n",
    "testing_vectors = np.reshape(testing_vectors, (testing_vectors.shape[0], 1, testing_vectors.shape[1]))\n",
    "\n",
    "print(training_vectors.shape)\n",
    "print(testing_vectors.shape)"
   ]
  },
  {
   "cell_type": "markdown",
   "id": "2SeVWptRrTdG",
   "metadata": {
    "id": "2SeVWptRrTdG"
   },
   "source": [
    "## Training a LSTM model"
   ]
  },
  {
   "cell_type": "code",
   "execution_count": null,
   "id": "IjIXHXa8rYhe",
   "metadata": {
    "id": "IjIXHXa8rYhe"
   },
   "outputs": [],
   "source": [
    "def get_model():\n",
    "    model = Sequential()\n",
    "    model.add(LSTM(300, dropout=0.4, recurrent_dropout=0.4, input_shape=[1, 300], return_sequences=True))\n",
    "    model.add(Dropout(0.3))\n",
    "    model.add(LSTM(128, recurrent_dropout=0.4, return_sequences = True))\n",
    "    model.add(Dropout(0.3))\n",
    "    model.add(LSTM(64, recurrent_dropout=0.4))\n",
    "    model.add(Dropout(0.3))\n",
    "    model.add(Dense(1, activation='relu'))\n",
    "    model.compile(loss='mean_squared_error', optimizer='rmsprop', metrics=['mae', 'mse'])\n",
    "    model.summary()\n",
    "    return model"
   ]
  },
  {
   "cell_type": "code",
   "execution_count": null,
   "id": "SOMQRWxVrda1",
   "metadata": {
    "colab": {
     "base_uri": "https://localhost:8080/"
    },
    "id": "SOMQRWxVrda1",
    "outputId": "0600104a-6931-40e7-9f7a-fad66be2e30a"
   },
   "outputs": [
    {
     "name": "stderr",
     "output_type": "stream",
     "text": [
      "WARNING:tensorflow:Layer lstm will not use cuDNN kernels since it doesn't meet the criteria. It will use a generic GPU kernel as fallback when running on GPU.\n",
      "WARNING:tensorflow:Layer lstm_1 will not use cuDNN kernels since it doesn't meet the criteria. It will use a generic GPU kernel as fallback when running on GPU.\n",
      "WARNING:tensorflow:Layer lstm_2 will not use cuDNN kernels since it doesn't meet the criteria. It will use a generic GPU kernel as fallback when running on GPU.\n"
     ]
    },
    {
     "name": "stdout",
     "output_type": "stream",
     "text": [
      "Model: \"sequential\"\n",
      "_________________________________________________________________\n",
      " Layer (type)                Output Shape              Param #   \n",
      "=================================================================\n",
      " lstm (LSTM)                 (None, 1, 300)            721200    \n",
      "                                                                 \n",
      " dropout (Dropout)           (None, 1, 300)            0         \n",
      "                                                                 \n",
      " lstm_1 (LSTM)               (None, 1, 128)            219648    \n",
      "                                                                 \n",
      " dropout_1 (Dropout)         (None, 1, 128)            0         \n",
      "                                                                 \n",
      " lstm_2 (LSTM)               (None, 64)                49408     \n",
      "                                                                 \n",
      " dropout_2 (Dropout)         (None, 64)                0         \n",
      "                                                                 \n",
      " dense (Dense)               (None, 1)                 65        \n",
      "                                                                 \n",
      "=================================================================\n",
      "Total params: 990321 (3.78 MB)\n",
      "Trainable params: 990321 (3.78 MB)\n",
      "Non-trainable params: 0 (0.00 Byte)\n",
      "_________________________________________________________________\n"
     ]
    }
   ],
   "source": [
    "lstm_model = get_model()"
   ]
  },
  {
   "cell_type": "code",
   "execution_count": null,
   "id": "9R6bIiwkro_r",
   "metadata": {
    "colab": {
     "base_uri": "https://localhost:8080/"
    },
    "id": "9R6bIiwkro_r",
    "outputId": "c5ee0452-dfa6-4783-cc1b-958595193e75"
   },
   "outputs": [
    {
     "name": "stdout",
     "output_type": "stream",
     "text": [
      "Epoch 1/150\n",
      "142/142 [==============================] - 16s 44ms/step - loss: 11.7543 - mae: 2.6776 - mse: 11.7543 - val_loss: 5.1112 - val_mae: 1.7958 - val_mse: 5.1112\n",
      "Epoch 2/150\n",
      "142/142 [==============================] - 3s 19ms/step - loss: 5.4597 - mae: 1.8527 - mse: 5.4597 - val_loss: 4.6240 - val_mae: 1.7025 - val_mse: 4.6240\n",
      "Epoch 3/150\n",
      "142/142 [==============================] - 3s 20ms/step - loss: 5.1267 - mae: 1.7969 - mse: 5.1267 - val_loss: 4.5558 - val_mae: 1.6605 - val_mse: 4.5558\n",
      "Epoch 4/150\n",
      "142/142 [==============================] - 3s 20ms/step - loss: 5.0360 - mae: 1.7814 - mse: 5.0360 - val_loss: 4.3861 - val_mae: 1.6321 - val_mse: 4.3861\n",
      "Epoch 5/150\n",
      "142/142 [==============================] - 5s 36ms/step - loss: 4.9401 - mae: 1.7617 - mse: 4.9401 - val_loss: 4.3521 - val_mae: 1.6497 - val_mse: 4.3521\n",
      "Epoch 6/150\n",
      "142/142 [==============================] - 3s 19ms/step - loss: 4.9930 - mae: 1.7707 - mse: 4.9930 - val_loss: 4.3005 - val_mae: 1.6141 - val_mse: 4.3005\n",
      "Epoch 7/150\n",
      "142/142 [==============================] - 4s 28ms/step - loss: 4.9244 - mae: 1.7620 - mse: 4.9244 - val_loss: 4.3059 - val_mae: 1.6336 - val_mse: 4.3059\n",
      "Epoch 8/150\n",
      "142/142 [==============================] - 8s 55ms/step - loss: 4.9518 - mae: 1.7668 - mse: 4.9518 - val_loss: 4.3134 - val_mae: 1.6430 - val_mse: 4.3134\n",
      "Epoch 9/150\n",
      "142/142 [==============================] - 6s 44ms/step - loss: 4.8782 - mae: 1.7547 - mse: 4.8782 - val_loss: 4.2359 - val_mae: 1.6049 - val_mse: 4.2359\n",
      "Epoch 10/150\n",
      "142/142 [==============================] - 4s 25ms/step - loss: 4.8540 - mae: 1.7489 - mse: 4.8540 - val_loss: 4.2499 - val_mae: 1.6021 - val_mse: 4.2499\n",
      "Epoch 11/150\n",
      "142/142 [==============================] - 4s 26ms/step - loss: 4.8545 - mae: 1.7489 - mse: 4.8545 - val_loss: 4.2748 - val_mae: 1.6071 - val_mse: 4.2748\n",
      "Epoch 12/150\n",
      "142/142 [==============================] - 5s 32ms/step - loss: 4.8473 - mae: 1.7416 - mse: 4.8473 - val_loss: 4.2840 - val_mae: 1.5990 - val_mse: 4.2840\n",
      "Epoch 13/150\n",
      "142/142 [==============================] - 3s 19ms/step - loss: 4.8965 - mae: 1.7561 - mse: 4.8965 - val_loss: 4.2819 - val_mae: 1.6319 - val_mse: 4.2819\n",
      "Epoch 14/150\n",
      "142/142 [==============================] - 3s 19ms/step - loss: 4.8322 - mae: 1.7419 - mse: 4.8322 - val_loss: 4.2445 - val_mae: 1.5924 - val_mse: 4.2445\n",
      "Epoch 15/150\n",
      "142/142 [==============================] - 3s 19ms/step - loss: 4.7864 - mae: 1.7260 - mse: 4.7864 - val_loss: 4.2096 - val_mae: 1.5932 - val_mse: 4.2096\n",
      "Epoch 16/150\n",
      "142/142 [==============================] - 4s 31ms/step - loss: 4.7548 - mae: 1.7253 - mse: 4.7548 - val_loss: 4.2232 - val_mae: 1.6002 - val_mse: 4.2232\n",
      "Epoch 17/150\n",
      "142/142 [==============================] - 3s 24ms/step - loss: 4.7797 - mae: 1.7271 - mse: 4.7797 - val_loss: 4.1918 - val_mae: 1.5955 - val_mse: 4.1918\n",
      "Epoch 18/150\n",
      "142/142 [==============================] - 3s 18ms/step - loss: 4.7809 - mae: 1.7220 - mse: 4.7809 - val_loss: 4.1803 - val_mae: 1.5941 - val_mse: 4.1803\n",
      "Epoch 19/150\n",
      "142/142 [==============================] - 3s 18ms/step - loss: 4.7428 - mae: 1.7215 - mse: 4.7428 - val_loss: 4.2145 - val_mae: 1.5958 - val_mse: 4.2145\n",
      "Epoch 20/150\n",
      "142/142 [==============================] - 3s 20ms/step - loss: 4.6736 - mae: 1.7086 - mse: 4.6736 - val_loss: 4.2159 - val_mae: 1.5744 - val_mse: 4.2159\n",
      "Epoch 21/150\n",
      "142/142 [==============================] - 5s 37ms/step - loss: 4.7464 - mae: 1.7187 - mse: 4.7464 - val_loss: 4.2735 - val_mae: 1.5924 - val_mse: 4.2735\n",
      "Epoch 22/150\n",
      "142/142 [==============================] - 3s 19ms/step - loss: 4.7228 - mae: 1.7133 - mse: 4.7228 - val_loss: 4.1567 - val_mae: 1.5947 - val_mse: 4.1567\n",
      "Epoch 23/150\n",
      "142/142 [==============================] - 3s 18ms/step - loss: 4.7026 - mae: 1.7096 - mse: 4.7026 - val_loss: 4.0802 - val_mae: 1.5596 - val_mse: 4.0802\n",
      "Epoch 24/150\n",
      "142/142 [==============================] - 3s 19ms/step - loss: 4.6513 - mae: 1.6899 - mse: 4.6513 - val_loss: 4.1411 - val_mae: 1.5659 - val_mse: 4.1411\n",
      "Epoch 25/150\n",
      "142/142 [==============================] - 3s 22ms/step - loss: 4.6432 - mae: 1.6932 - mse: 4.6432 - val_loss: 4.1113 - val_mae: 1.5839 - val_mse: 4.1113\n",
      "Epoch 26/150\n",
      "142/142 [==============================] - 5s 34ms/step - loss: 4.6242 - mae: 1.6909 - mse: 4.6242 - val_loss: 4.1117 - val_mae: 1.5841 - val_mse: 4.1117\n",
      "Epoch 27/150\n",
      "142/142 [==============================] - 3s 19ms/step - loss: 4.6219 - mae: 1.6913 - mse: 4.6219 - val_loss: 4.1291 - val_mae: 1.5663 - val_mse: 4.1291\n",
      "Epoch 28/150\n",
      "142/142 [==============================] - 3s 19ms/step - loss: 4.6528 - mae: 1.6920 - mse: 4.6528 - val_loss: 4.1039 - val_mae: 1.5679 - val_mse: 4.1039\n",
      "Epoch 29/150\n",
      "142/142 [==============================] - 3s 18ms/step - loss: 4.6450 - mae: 1.6877 - mse: 4.6450 - val_loss: 4.0909 - val_mae: 1.5608 - val_mse: 4.0909\n",
      "Epoch 30/150\n",
      "142/142 [==============================] - 4s 28ms/step - loss: 4.5702 - mae: 1.6807 - mse: 4.5702 - val_loss: 4.0842 - val_mae: 1.5642 - val_mse: 4.0842\n",
      "Epoch 31/150\n",
      "142/142 [==============================] - 4s 28ms/step - loss: 4.6035 - mae: 1.6883 - mse: 4.6035 - val_loss: 4.0636 - val_mae: 1.5589 - val_mse: 4.0636\n",
      "Epoch 32/150\n",
      "142/142 [==============================] - 3s 19ms/step - loss: 4.4640 - mae: 1.6619 - mse: 4.4640 - val_loss: 4.0193 - val_mae: 1.5427 - val_mse: 4.0193\n",
      "Epoch 33/150\n",
      "142/142 [==============================] - 3s 19ms/step - loss: 4.5568 - mae: 1.6808 - mse: 4.5568 - val_loss: 4.0402 - val_mae: 1.5510 - val_mse: 4.0402\n",
      "Epoch 34/150\n",
      "142/142 [==============================] - 3s 19ms/step - loss: 4.4929 - mae: 1.6685 - mse: 4.4929 - val_loss: 4.0064 - val_mae: 1.5414 - val_mse: 4.0064\n",
      "Epoch 35/150\n",
      "142/142 [==============================] - 5s 35ms/step - loss: 4.5083 - mae: 1.6649 - mse: 4.5083 - val_loss: 4.0195 - val_mae: 1.5635 - val_mse: 4.0195\n",
      "Epoch 36/150\n",
      "142/142 [==============================] - 3s 22ms/step - loss: 4.5017 - mae: 1.6731 - mse: 4.5017 - val_loss: 4.0264 - val_mae: 1.5592 - val_mse: 4.0264\n",
      "Epoch 37/150\n",
      "142/142 [==============================] - 3s 24ms/step - loss: 4.4549 - mae: 1.6574 - mse: 4.4549 - val_loss: 4.0201 - val_mae: 1.5460 - val_mse: 4.0201\n",
      "Epoch 38/150\n",
      "142/142 [==============================] - 3s 20ms/step - loss: 4.4183 - mae: 1.6562 - mse: 4.4183 - val_loss: 3.9742 - val_mae: 1.5363 - val_mse: 3.9742\n",
      "Epoch 39/150\n",
      "142/142 [==============================] - 4s 28ms/step - loss: 4.4381 - mae: 1.6624 - mse: 4.4381 - val_loss: 3.9174 - val_mae: 1.5259 - val_mse: 3.9174\n",
      "Epoch 40/150\n",
      "142/142 [==============================] - 4s 27ms/step - loss: 4.4891 - mae: 1.6628 - mse: 4.4891 - val_loss: 3.9118 - val_mae: 1.5292 - val_mse: 3.9118\n",
      "Epoch 41/150\n",
      "142/142 [==============================] - 3s 18ms/step - loss: 4.4269 - mae: 1.6545 - mse: 4.4269 - val_loss: 3.8900 - val_mae: 1.5225 - val_mse: 3.8900\n",
      "Epoch 42/150\n",
      "142/142 [==============================] - 3s 19ms/step - loss: 4.3894 - mae: 1.6511 - mse: 4.3894 - val_loss: 3.8731 - val_mae: 1.5319 - val_mse: 3.8731\n",
      "Epoch 43/150\n",
      "142/142 [==============================] - 3s 18ms/step - loss: 4.2998 - mae: 1.6318 - mse: 4.2998 - val_loss: 3.8487 - val_mae: 1.5115 - val_mse: 3.8487\n",
      "Epoch 44/150\n",
      "142/142 [==============================] - 5s 32ms/step - loss: 4.3043 - mae: 1.6299 - mse: 4.3043 - val_loss: 3.8241 - val_mae: 1.5083 - val_mse: 3.8241\n",
      "Epoch 45/150\n",
      "142/142 [==============================] - 3s 24ms/step - loss: 4.3346 - mae: 1.6372 - mse: 4.3346 - val_loss: 3.7973 - val_mae: 1.5079 - val_mse: 3.7973\n",
      "Epoch 46/150\n",
      "142/142 [==============================] - 3s 18ms/step - loss: 4.3075 - mae: 1.6341 - mse: 4.3075 - val_loss: 3.8015 - val_mae: 1.5090 - val_mse: 3.8015\n",
      "Epoch 47/150\n",
      "142/142 [==============================] - 3s 19ms/step - loss: 4.3578 - mae: 1.6413 - mse: 4.3578 - val_loss: 3.8050 - val_mae: 1.5093 - val_mse: 3.8050\n",
      "Epoch 48/150\n",
      "142/142 [==============================] - 3s 19ms/step - loss: 4.2556 - mae: 1.6185 - mse: 4.2556 - val_loss: 3.8243 - val_mae: 1.5167 - val_mse: 3.8243\n",
      "Epoch 49/150\n",
      "142/142 [==============================] - 5s 38ms/step - loss: 4.2578 - mae: 1.6285 - mse: 4.2578 - val_loss: 3.8150 - val_mae: 1.5039 - val_mse: 3.8150\n",
      "Epoch 50/150\n",
      "142/142 [==============================] - 3s 18ms/step - loss: 4.2621 - mae: 1.6235 - mse: 4.2621 - val_loss: 3.8511 - val_mae: 1.5095 - val_mse: 3.8511\n",
      "Epoch 51/150\n",
      "142/142 [==============================] - 3s 19ms/step - loss: 4.2558 - mae: 1.6204 - mse: 4.2558 - val_loss: 3.7735 - val_mae: 1.5014 - val_mse: 3.7735\n",
      "Epoch 52/150\n",
      "142/142 [==============================] - 3s 18ms/step - loss: 4.1602 - mae: 1.6077 - mse: 4.1602 - val_loss: 3.8288 - val_mae: 1.5080 - val_mse: 3.8288\n",
      "Epoch 53/150\n",
      "142/142 [==============================] - 3s 21ms/step - loss: 4.2134 - mae: 1.6172 - mse: 4.2134 - val_loss: 3.8032 - val_mae: 1.5051 - val_mse: 3.8032\n",
      "Epoch 54/150\n",
      "142/142 [==============================] - 5s 35ms/step - loss: 4.2241 - mae: 1.6171 - mse: 4.2241 - val_loss: 3.7580 - val_mae: 1.4984 - val_mse: 3.7580\n",
      "Epoch 55/150\n",
      "142/142 [==============================] - 3s 19ms/step - loss: 4.1649 - mae: 1.6066 - mse: 4.1649 - val_loss: 3.8145 - val_mae: 1.5032 - val_mse: 3.8145\n",
      "Epoch 56/150\n",
      "142/142 [==============================] - 3s 18ms/step - loss: 4.1396 - mae: 1.6016 - mse: 4.1396 - val_loss: 3.8268 - val_mae: 1.5088 - val_mse: 3.8268\n",
      "Epoch 57/150\n",
      "142/142 [==============================] - 3s 20ms/step - loss: 4.1360 - mae: 1.5947 - mse: 4.1360 - val_loss: 3.7480 - val_mae: 1.4905 - val_mse: 3.7480\n",
      "Epoch 58/150\n",
      "142/142 [==============================] - 4s 29ms/step - loss: 4.1334 - mae: 1.5994 - mse: 4.1334 - val_loss: 3.7579 - val_mae: 1.4983 - val_mse: 3.7579\n",
      "Epoch 59/150\n",
      "142/142 [==============================] - 4s 28ms/step - loss: 4.1245 - mae: 1.6007 - mse: 4.1245 - val_loss: 3.7597 - val_mae: 1.4896 - val_mse: 3.7597\n",
      "Epoch 60/150\n",
      "142/142 [==============================] - 3s 18ms/step - loss: 4.1253 - mae: 1.6027 - mse: 4.1253 - val_loss: 3.6984 - val_mae: 1.4848 - val_mse: 3.6984\n",
      "Epoch 61/150\n",
      "142/142 [==============================] - 3s 19ms/step - loss: 4.1561 - mae: 1.6028 - mse: 4.1561 - val_loss: 3.6905 - val_mae: 1.4868 - val_mse: 3.6905\n",
      "Epoch 62/150\n",
      "142/142 [==============================] - 3s 19ms/step - loss: 4.0378 - mae: 1.5788 - mse: 4.0378 - val_loss: 3.6791 - val_mae: 1.4810 - val_mse: 3.6791\n",
      "Epoch 63/150\n",
      "142/142 [==============================] - 5s 37ms/step - loss: 4.0471 - mae: 1.5842 - mse: 4.0471 - val_loss: 3.7395 - val_mae: 1.4879 - val_mse: 3.7395\n",
      "Epoch 64/150\n",
      "142/142 [==============================] - 3s 20ms/step - loss: 4.0594 - mae: 1.5938 - mse: 4.0594 - val_loss: 3.7007 - val_mae: 1.4815 - val_mse: 3.7007\n",
      "Epoch 65/150\n",
      "142/142 [==============================] - 3s 19ms/step - loss: 4.1129 - mae: 1.5934 - mse: 4.1129 - val_loss: 3.6983 - val_mae: 1.4853 - val_mse: 3.6983\n",
      "Epoch 66/150\n",
      "142/142 [==============================] - 3s 19ms/step - loss: 4.1027 - mae: 1.5901 - mse: 4.1027 - val_loss: 3.6804 - val_mae: 1.4766 - val_mse: 3.6804\n",
      "Epoch 67/150\n",
      "142/142 [==============================] - 3s 24ms/step - loss: 4.0345 - mae: 1.5744 - mse: 4.0345 - val_loss: 3.7557 - val_mae: 1.4947 - val_mse: 3.7557\n",
      "Epoch 68/150\n",
      "142/142 [==============================] - 5s 33ms/step - loss: 4.0562 - mae: 1.5787 - mse: 4.0562 - val_loss: 3.7306 - val_mae: 1.4929 - val_mse: 3.7306\n",
      "Epoch 69/150\n",
      "142/142 [==============================] - 3s 18ms/step - loss: 4.0272 - mae: 1.5821 - mse: 4.0272 - val_loss: 3.6438 - val_mae: 1.4694 - val_mse: 3.6438\n",
      "Epoch 70/150\n",
      "142/142 [==============================] - 3s 19ms/step - loss: 4.0689 - mae: 1.5897 - mse: 4.0689 - val_loss: 3.6532 - val_mae: 1.4757 - val_mse: 3.6532\n",
      "Epoch 71/150\n",
      "142/142 [==============================] - 3s 19ms/step - loss: 4.0179 - mae: 1.5759 - mse: 4.0179 - val_loss: 3.7968 - val_mae: 1.4923 - val_mse: 3.7968\n",
      "Epoch 72/150\n",
      "142/142 [==============================] - 4s 28ms/step - loss: 4.0219 - mae: 1.5777 - mse: 4.0219 - val_loss: 3.7032 - val_mae: 1.4806 - val_mse: 3.7032\n",
      "Epoch 73/150\n",
      "142/142 [==============================] - 4s 28ms/step - loss: 3.9369 - mae: 1.5593 - mse: 3.9369 - val_loss: 3.6351 - val_mae: 1.4696 - val_mse: 3.6351\n",
      "Epoch 74/150\n",
      "142/142 [==============================] - 3s 19ms/step - loss: 3.9919 - mae: 1.5744 - mse: 3.9919 - val_loss: 3.6495 - val_mae: 1.4714 - val_mse: 3.6495\n",
      "Epoch 75/150\n",
      "142/142 [==============================] - 3s 19ms/step - loss: 3.9430 - mae: 1.5643 - mse: 3.9430 - val_loss: 3.6863 - val_mae: 1.4729 - val_mse: 3.6863\n",
      "Epoch 76/150\n",
      "142/142 [==============================] - 3s 19ms/step - loss: 3.9434 - mae: 1.5583 - mse: 3.9434 - val_loss: 3.6583 - val_mae: 1.4720 - val_mse: 3.6583\n",
      "Epoch 77/150\n",
      "142/142 [==============================] - 5s 35ms/step - loss: 3.9408 - mae: 1.5604 - mse: 3.9408 - val_loss: 3.6593 - val_mae: 1.4728 - val_mse: 3.6593\n",
      "Epoch 78/150\n",
      "142/142 [==============================] - 3s 22ms/step - loss: 3.9136 - mae: 1.5602 - mse: 3.9136 - val_loss: 3.5914 - val_mae: 1.4677 - val_mse: 3.5914\n",
      "Epoch 79/150\n",
      "142/142 [==============================] - 3s 20ms/step - loss: 3.9393 - mae: 1.5612 - mse: 3.9393 - val_loss: 3.5763 - val_mae: 1.4571 - val_mse: 3.5763\n",
      "Epoch 80/150\n",
      "142/142 [==============================] - 3s 19ms/step - loss: 3.9080 - mae: 1.5513 - mse: 3.9080 - val_loss: 3.6387 - val_mae: 1.4667 - val_mse: 3.6387\n",
      "Epoch 81/150\n",
      "142/142 [==============================] - 3s 22ms/step - loss: 3.8883 - mae: 1.5547 - mse: 3.8883 - val_loss: 3.6076 - val_mae: 1.4592 - val_mse: 3.6076\n",
      "Epoch 82/150\n",
      "142/142 [==============================] - 5s 35ms/step - loss: 3.8827 - mae: 1.5480 - mse: 3.8827 - val_loss: 3.6128 - val_mae: 1.4553 - val_mse: 3.6128\n",
      "Epoch 83/150\n",
      "142/142 [==============================] - 3s 19ms/step - loss: 3.8835 - mae: 1.5493 - mse: 3.8835 - val_loss: 3.6072 - val_mae: 1.4593 - val_mse: 3.6072\n",
      "Epoch 84/150\n",
      "142/142 [==============================] - 3s 20ms/step - loss: 3.8517 - mae: 1.5446 - mse: 3.8517 - val_loss: 3.5691 - val_mae: 1.4616 - val_mse: 3.5691\n",
      "Epoch 85/150\n",
      "142/142 [==============================] - 3s 20ms/step - loss: 3.8759 - mae: 1.5463 - mse: 3.8759 - val_loss: 3.5354 - val_mae: 1.4574 - val_mse: 3.5354\n",
      "Epoch 86/150\n",
      "142/142 [==============================] - 4s 30ms/step - loss: 3.9060 - mae: 1.5569 - mse: 3.9060 - val_loss: 3.5528 - val_mae: 1.4571 - val_mse: 3.5528\n",
      "Epoch 87/150\n",
      "142/142 [==============================] - 4s 28ms/step - loss: 3.8081 - mae: 1.5307 - mse: 3.8081 - val_loss: 3.5563 - val_mae: 1.4600 - val_mse: 3.5563\n",
      "Epoch 88/150\n",
      "142/142 [==============================] - 3s 18ms/step - loss: 3.8311 - mae: 1.5315 - mse: 3.8311 - val_loss: 3.5177 - val_mae: 1.4453 - val_mse: 3.5177\n",
      "Epoch 89/150\n",
      "142/142 [==============================] - 3s 18ms/step - loss: 3.8428 - mae: 1.5359 - mse: 3.8428 - val_loss: 3.5234 - val_mae: 1.4455 - val_mse: 3.5234\n",
      "Epoch 90/150\n",
      "142/142 [==============================] - 3s 18ms/step - loss: 3.7940 - mae: 1.5345 - mse: 3.7940 - val_loss: 3.5728 - val_mae: 1.4556 - val_mse: 3.5728\n",
      "Epoch 91/150\n",
      "142/142 [==============================] - 4s 29ms/step - loss: 3.8006 - mae: 1.5315 - mse: 3.8006 - val_loss: 3.5293 - val_mae: 1.4440 - val_mse: 3.5293\n",
      "Epoch 92/150\n",
      "142/142 [==============================] - 4s 26ms/step - loss: 3.7926 - mae: 1.5322 - mse: 3.7926 - val_loss: 3.5049 - val_mae: 1.4478 - val_mse: 3.5049\n",
      "Epoch 93/150\n",
      "142/142 [==============================] - 3s 19ms/step - loss: 3.7832 - mae: 1.5264 - mse: 3.7832 - val_loss: 3.5686 - val_mae: 1.4518 - val_mse: 3.5686\n",
      "Epoch 94/150\n",
      "142/142 [==============================] - 3s 19ms/step - loss: 3.7749 - mae: 1.5278 - mse: 3.7749 - val_loss: 3.5076 - val_mae: 1.4538 - val_mse: 3.5076\n",
      "Epoch 95/150\n",
      "142/142 [==============================] - 3s 19ms/step - loss: 3.7241 - mae: 1.5168 - mse: 3.7241 - val_loss: 3.4958 - val_mae: 1.4408 - val_mse: 3.4958\n",
      "Epoch 96/150\n",
      "142/142 [==============================] - 5s 35ms/step - loss: 3.7925 - mae: 1.5263 - mse: 3.7925 - val_loss: 3.6061 - val_mae: 1.4570 - val_mse: 3.6061\n",
      "Epoch 97/150\n",
      "142/142 [==============================] - 3s 20ms/step - loss: 3.7344 - mae: 1.5133 - mse: 3.7344 - val_loss: 3.5022 - val_mae: 1.4429 - val_mse: 3.5022\n",
      "Epoch 98/150\n",
      "142/142 [==============================] - 3s 19ms/step - loss: 3.7938 - mae: 1.5280 - mse: 3.7938 - val_loss: 3.5019 - val_mae: 1.4380 - val_mse: 3.5019\n",
      "Epoch 99/150\n",
      "142/142 [==============================] - 3s 18ms/step - loss: 3.7702 - mae: 1.5321 - mse: 3.7702 - val_loss: 3.4961 - val_mae: 1.4458 - val_mse: 3.4961\n",
      "Epoch 100/150\n",
      "142/142 [==============================] - 3s 18ms/step - loss: 3.6822 - mae: 1.5038 - mse: 3.6822 - val_loss: 3.4910 - val_mae: 1.4461 - val_mse: 3.4910\n",
      "Epoch 101/150\n",
      "142/142 [==============================] - 5s 37ms/step - loss: 3.6808 - mae: 1.5065 - mse: 3.6808 - val_loss: 3.5597 - val_mae: 1.4495 - val_mse: 3.5597\n",
      "Epoch 102/150\n",
      "142/142 [==============================] - 3s 20ms/step - loss: 3.6751 - mae: 1.5047 - mse: 3.6751 - val_loss: 3.4982 - val_mae: 1.4440 - val_mse: 3.4982\n",
      "Epoch 103/150\n",
      "142/142 [==============================] - 3s 19ms/step - loss: 3.7090 - mae: 1.5194 - mse: 3.7090 - val_loss: 3.4778 - val_mae: 1.4424 - val_mse: 3.4778\n",
      "Epoch 104/150\n",
      "142/142 [==============================] - 3s 20ms/step - loss: 3.6725 - mae: 1.5083 - mse: 3.6725 - val_loss: 3.4884 - val_mae: 1.4394 - val_mse: 3.4884\n",
      "Epoch 105/150\n",
      "142/142 [==============================] - 3s 24ms/step - loss: 3.6847 - mae: 1.5020 - mse: 3.6847 - val_loss: 3.5089 - val_mae: 1.4387 - val_mse: 3.5089\n",
      "Epoch 106/150\n",
      "142/142 [==============================] - 5s 32ms/step - loss: 3.6708 - mae: 1.5045 - mse: 3.6708 - val_loss: 3.4949 - val_mae: 1.4332 - val_mse: 3.4949\n",
      "Epoch 107/150\n",
      "142/142 [==============================] - 3s 19ms/step - loss: 3.6446 - mae: 1.4942 - mse: 3.6446 - val_loss: 3.4876 - val_mae: 1.4369 - val_mse: 3.4876\n",
      "Epoch 108/150\n",
      "142/142 [==============================] - 3s 18ms/step - loss: 3.6231 - mae: 1.4975 - mse: 3.6231 - val_loss: 3.4567 - val_mae: 1.4238 - val_mse: 3.4567\n",
      "Epoch 109/150\n",
      "142/142 [==============================] - 3s 19ms/step - loss: 3.5969 - mae: 1.4918 - mse: 3.5969 - val_loss: 3.4577 - val_mae: 1.4313 - val_mse: 3.4577\n",
      "Epoch 110/150\n",
      "142/142 [==============================] - 4s 29ms/step - loss: 3.5607 - mae: 1.4827 - mse: 3.5607 - val_loss: 3.5250 - val_mae: 1.4362 - val_mse: 3.5250\n",
      "Epoch 111/150\n",
      "142/142 [==============================] - 4s 28ms/step - loss: 3.6050 - mae: 1.4937 - mse: 3.6050 - val_loss: 3.4433 - val_mae: 1.4241 - val_mse: 3.4433\n",
      "Epoch 112/150\n",
      "142/142 [==============================] - 5s 32ms/step - loss: 3.6178 - mae: 1.4910 - mse: 3.6178 - val_loss: 3.4204 - val_mae: 1.4222 - val_mse: 3.4204\n",
      "Epoch 113/150\n",
      "142/142 [==============================] - 7s 53ms/step - loss: 3.6427 - mae: 1.4973 - mse: 3.6427 - val_loss: 3.4401 - val_mae: 1.4279 - val_mse: 3.4401\n",
      "Epoch 114/150\n",
      "142/142 [==============================] - 5s 34ms/step - loss: 3.6853 - mae: 1.5114 - mse: 3.6853 - val_loss: 3.3942 - val_mae: 1.4206 - val_mse: 3.3942\n",
      "Epoch 115/150\n",
      "142/142 [==============================] - 3s 20ms/step - loss: 3.6014 - mae: 1.4951 - mse: 3.6014 - val_loss: 3.4055 - val_mae: 1.4249 - val_mse: 3.4055\n",
      "Epoch 116/150\n",
      "142/142 [==============================] - 3s 18ms/step - loss: 3.5775 - mae: 1.4816 - mse: 3.5775 - val_loss: 3.4733 - val_mae: 1.4329 - val_mse: 3.4733\n",
      "Epoch 117/150\n",
      "142/142 [==============================] - 3s 21ms/step - loss: 3.6103 - mae: 1.4872 - mse: 3.6103 - val_loss: 3.4916 - val_mae: 1.4314 - val_mse: 3.4916\n",
      "Epoch 118/150\n",
      "142/142 [==============================] - 5s 36ms/step - loss: 3.5678 - mae: 1.4846 - mse: 3.5678 - val_loss: 3.4332 - val_mae: 1.4270 - val_mse: 3.4332\n",
      "Epoch 119/150\n",
      "142/142 [==============================] - 3s 19ms/step - loss: 3.5465 - mae: 1.4843 - mse: 3.5465 - val_loss: 3.4406 - val_mae: 1.4274 - val_mse: 3.4406\n",
      "Epoch 120/150\n",
      "142/142 [==============================] - 3s 19ms/step - loss: 3.5509 - mae: 1.4783 - mse: 3.5509 - val_loss: 3.3875 - val_mae: 1.4176 - val_mse: 3.3875\n",
      "Epoch 121/150\n",
      "142/142 [==============================] - 3s 19ms/step - loss: 3.6057 - mae: 1.4902 - mse: 3.6057 - val_loss: 3.4172 - val_mae: 1.4179 - val_mse: 3.4172\n",
      "Epoch 122/150\n",
      "142/142 [==============================] - 4s 27ms/step - loss: 3.5483 - mae: 1.4830 - mse: 3.5483 - val_loss: 3.4442 - val_mae: 1.4227 - val_mse: 3.4442\n",
      "Epoch 123/150\n",
      "142/142 [==============================] - 4s 30ms/step - loss: 3.5511 - mae: 1.4814 - mse: 3.5511 - val_loss: 3.4175 - val_mae: 1.4214 - val_mse: 3.4175\n",
      "Epoch 124/150\n",
      "142/142 [==============================] - 3s 20ms/step - loss: 3.5452 - mae: 1.4778 - mse: 3.5452 - val_loss: 3.4273 - val_mae: 1.4209 - val_mse: 3.4273\n",
      "Epoch 125/150\n",
      "142/142 [==============================] - 3s 19ms/step - loss: 3.5568 - mae: 1.4816 - mse: 3.5568 - val_loss: 3.4093 - val_mae: 1.4176 - val_mse: 3.4093\n",
      "Epoch 126/150\n",
      "142/142 [==============================] - 3s 19ms/step - loss: 3.5356 - mae: 1.4793 - mse: 3.5356 - val_loss: 3.3710 - val_mae: 1.4150 - val_mse: 3.3710\n",
      "Epoch 127/150\n",
      "142/142 [==============================] - 5s 33ms/step - loss: 3.5104 - mae: 1.4682 - mse: 3.5104 - val_loss: 3.3482 - val_mae: 1.4132 - val_mse: 3.3482\n",
      "Epoch 128/150\n",
      "142/142 [==============================] - 3s 24ms/step - loss: 3.5212 - mae: 1.4780 - mse: 3.5212 - val_loss: 3.6127 - val_mae: 1.4547 - val_mse: 3.6127\n",
      "Epoch 129/150\n",
      "142/142 [==============================] - 3s 19ms/step - loss: 3.5309 - mae: 1.4734 - mse: 3.5309 - val_loss: 3.3427 - val_mae: 1.4068 - val_mse: 3.3427\n",
      "Epoch 130/150\n",
      "142/142 [==============================] - 3s 19ms/step - loss: 3.4957 - mae: 1.4714 - mse: 3.4957 - val_loss: 3.3771 - val_mae: 1.4099 - val_mse: 3.3771\n",
      "Epoch 131/150\n",
      "142/142 [==============================] - 3s 18ms/step - loss: 3.5346 - mae: 1.4780 - mse: 3.5346 - val_loss: 3.4240 - val_mae: 1.4182 - val_mse: 3.4240\n",
      "Epoch 132/150\n",
      "142/142 [==============================] - 5s 37ms/step - loss: 3.4849 - mae: 1.4681 - mse: 3.4849 - val_loss: 3.3548 - val_mae: 1.4059 - val_mse: 3.3548\n",
      "Epoch 133/150\n",
      "142/142 [==============================] - 3s 19ms/step - loss: 3.5377 - mae: 1.4784 - mse: 3.5377 - val_loss: 3.3484 - val_mae: 1.4086 - val_mse: 3.3484\n",
      "Epoch 134/150\n",
      "142/142 [==============================] - 3s 20ms/step - loss: 3.5017 - mae: 1.4673 - mse: 3.5017 - val_loss: 3.3077 - val_mae: 1.3955 - val_mse: 3.3077\n",
      "Epoch 135/150\n",
      "142/142 [==============================] - 3s 20ms/step - loss: 3.4388 - mae: 1.4540 - mse: 3.4388 - val_loss: 3.3230 - val_mae: 1.4086 - val_mse: 3.3230\n",
      "Epoch 136/150\n",
      "142/142 [==============================] - 4s 26ms/step - loss: 3.4763 - mae: 1.4680 - mse: 3.4763 - val_loss: 3.3364 - val_mae: 1.4035 - val_mse: 3.3364\n",
      "Epoch 137/150\n",
      "142/142 [==============================] - 4s 31ms/step - loss: 3.4150 - mae: 1.4541 - mse: 3.4150 - val_loss: 3.2851 - val_mae: 1.3940 - val_mse: 3.2851\n",
      "Epoch 138/150\n",
      "142/142 [==============================] - 3s 19ms/step - loss: 3.4590 - mae: 1.4606 - mse: 3.4590 - val_loss: 3.3668 - val_mae: 1.4079 - val_mse: 3.3668\n",
      "Epoch 139/150\n",
      "142/142 [==============================] - 3s 20ms/step - loss: 3.4461 - mae: 1.4516 - mse: 3.4461 - val_loss: 3.4896 - val_mae: 1.4311 - val_mse: 3.4896\n",
      "Epoch 140/150\n",
      "142/142 [==============================] - 3s 19ms/step - loss: 3.4711 - mae: 1.4610 - mse: 3.4711 - val_loss: 3.3687 - val_mae: 1.4054 - val_mse: 3.3687\n",
      "Epoch 141/150\n",
      "142/142 [==============================] - 5s 32ms/step - loss: 3.4032 - mae: 1.4496 - mse: 3.4032 - val_loss: 3.4456 - val_mae: 1.4254 - val_mse: 3.4456\n",
      "Epoch 142/150\n",
      "142/142 [==============================] - 3s 24ms/step - loss: 3.4424 - mae: 1.4533 - mse: 3.4424 - val_loss: 3.3007 - val_mae: 1.3933 - val_mse: 3.3007\n",
      "Epoch 143/150\n",
      "142/142 [==============================] - 3s 19ms/step - loss: 3.4003 - mae: 1.4425 - mse: 3.4003 - val_loss: 3.3909 - val_mae: 1.4100 - val_mse: 3.3909\n",
      "Epoch 144/150\n",
      "142/142 [==============================] - 3s 20ms/step - loss: 3.3862 - mae: 1.4462 - mse: 3.3862 - val_loss: 3.3260 - val_mae: 1.4029 - val_mse: 3.3260\n",
      "Epoch 145/150\n",
      "142/142 [==============================] - 3s 18ms/step - loss: 3.3960 - mae: 1.4522 - mse: 3.3960 - val_loss: 3.3806 - val_mae: 1.4104 - val_mse: 3.3806\n",
      "Epoch 146/150\n",
      "142/142 [==============================] - 5s 38ms/step - loss: 3.4016 - mae: 1.4490 - mse: 3.4016 - val_loss: 3.2662 - val_mae: 1.3897 - val_mse: 3.2662\n",
      "Epoch 147/150\n",
      "142/142 [==============================] - 3s 20ms/step - loss: 3.4409 - mae: 1.4568 - mse: 3.4409 - val_loss: 3.4084 - val_mae: 1.4172 - val_mse: 3.4084\n",
      "Epoch 148/150\n",
      "142/142 [==============================] - 3s 20ms/step - loss: 3.3080 - mae: 1.4297 - mse: 3.3080 - val_loss: 3.3360 - val_mae: 1.4005 - val_mse: 3.3360\n",
      "Epoch 149/150\n",
      "142/142 [==============================] - 3s 19ms/step - loss: 3.4195 - mae: 1.4460 - mse: 3.4195 - val_loss: 3.3121 - val_mae: 1.3954 - val_mse: 3.3121\n",
      "Epoch 150/150\n",
      "142/142 [==============================] - 3s 24ms/step - loss: 3.3686 - mae: 1.4420 - mse: 3.3686 - val_loss: 3.3191 - val_mae: 1.3925 - val_mse: 3.3191\n"
     ]
    }
   ],
   "source": [
    "history = lstm_model.fit(training_vectors, y_train, batch_size=64, epochs=150, validation_data=(testing_vectors, y_test))"
   ]
  },
  {
   "cell_type": "code",
   "execution_count": null,
   "id": "yqCfluySr4QR",
   "metadata": {
    "colab": {
     "base_uri": "https://localhost:8080/"
    },
    "id": "yqCfluySr4QR",
    "outputId": "48b7dee4-672b-4104-ae4c-6e8ea1ec07d4"
   },
   "outputs": [
    {
     "name": "stdout",
     "output_type": "stream",
     "text": [
      "122/122 [==============================] - 1s 3ms/step\n"
     ]
    },
    {
     "data": {
      "text/plain": [
       "array([[2.],\n",
       "       [5.],\n",
       "       [7.],\n",
       "       ...,\n",
       "       [7.],\n",
       "       [8.],\n",
       "       [9.]], dtype=float32)"
      ]
     },
     "execution_count": 33,
     "metadata": {},
     "output_type": "execute_result"
    }
   ],
   "source": [
    "lstm_model.save(\"/content/drive/MyDrive/Colab Notebooks/Hewett's Essay/simple_lstm.keras\")\n",
    "y_pred = lstm_model.predict(testing_vectors)\n",
    "y_pred = np.around(y_pred)\n",
    "y_pred"
   ]
  },
  {
   "cell_type": "code",
   "execution_count": 93,
   "id": "ZahLac32CRRh",
   "metadata": {
    "id": "ZahLac32CRRh"
   },
   "outputs": [],
   "source": [
    "lstm_model.save_weights(\"/content/drive/MyDrive/Colab Notebooks/Hewett's Essay/simple_lstm.h5\")"
   ]
  },
  {
   "cell_type": "markdown",
   "id": "kMWoYckluB9L",
   "metadata": {
    "id": "kMWoYckluB9L"
   },
   "source": [
    "## Model Evaluation"
   ]
  },
  {
   "cell_type": "code",
   "execution_count": null,
   "id": "-4elVvVat_I5",
   "metadata": {
    "id": "-4elVvVat_I5"
   },
   "outputs": [],
   "source": [
    "from sklearn.metrics import cohen_kappa_score\n",
    "from sklearn.metrics import mean_squared_error"
   ]
  },
  {
   "cell_type": "code",
   "execution_count": null,
   "id": "zJkh26U3vA4A",
   "metadata": {
    "id": "zJkh26U3vA4A"
   },
   "outputs": [],
   "source": [
    "y_pred = np.array(y_pred)\n",
    "y_pred[np.isnan(y_pred)] = 0"
   ]
  },
  {
   "cell_type": "code",
   "execution_count": null,
   "id": "JkLVPNAxvE5b",
   "metadata": {
    "id": "JkLVPNAxvE5b"
   },
   "outputs": [],
   "source": [
    "# Check for NaN values in y_test\n",
    "if y_test.isnull().values.any():\n",
    "    # Handle NaN values in y_test\n",
    "    y_test = y_test.fillna(0)  # Replace NaN values with 0 (or any other value)"
   ]
  },
  {
   "cell_type": "code",
   "execution_count": null,
   "id": "gqXTxiYhvHxA",
   "metadata": {
    "id": "gqXTxiYhvHxA"
   },
   "outputs": [],
   "source": [
    "assert len(y_test) == len(y_pred), \"Mismatched lengths between y_test and y_pred\""
   ]
  },
  {
   "cell_type": "code",
   "execution_count": null,
   "id": "uCvAswRIuGf5",
   "metadata": {
    "colab": {
     "base_uri": "https://localhost:8080/"
    },
    "id": "uCvAswRIuGf5",
    "outputId": "d135164c-e29f-4d60-aa27-30df44513d09"
   },
   "outputs": [
    {
     "name": "stdout",
     "output_type": "stream",
     "text": [
      "Kappa Score: 0.6450452385623828\n"
     ]
    }
   ],
   "source": [
    "result = cohen_kappa_score(y_test.values,y_pred, weights='quadratic')\n",
    "print(\"Kappa Score: {}\".format(result))"
   ]
  },
  {
   "cell_type": "code",
   "execution_count": null,
   "id": "M4b5saY_uKCV",
   "metadata": {
    "colab": {
     "base_uri": "https://localhost:8080/"
    },
    "id": "M4b5saY_uKCV",
    "outputId": "3541d63f-7d17-4d91-9e52-82959e28aa18"
   },
   "outputs": [
    {
     "name": "stdout",
     "output_type": "stream",
     "text": [
      "Mean squared error: 3.39\n"
     ]
    }
   ],
   "source": [
    "print(\"Mean squared error: %.2f\" % mean_squared_error(y_test, y_pred))"
   ]
  },
  {
   "cell_type": "markdown",
   "id": "YQbgiso7vSw1",
   "metadata": {
    "id": "YQbgiso7vSw1"
   },
   "source": [
    "## Hyperparameters Optimization"
   ]
  },
  {
   "cell_type": "code",
   "execution_count": null,
   "id": "peuQlOOovMO0",
   "metadata": {
    "colab": {
     "base_uri": "https://localhost:8080/"
    },
    "id": "peuQlOOovMO0",
    "outputId": "8d47850a-ef42-4a07-c93e-060d0c2e0e86"
   },
   "outputs": [
    {
     "name": "stdout",
     "output_type": "stream",
     "text": [
      "Requirement already satisfied: keras-tuner in /usr/local/lib/python3.10/dist-packages (1.4.6)\n",
      "Requirement already satisfied: keras in /usr/local/lib/python3.10/dist-packages (from keras-tuner) (2.15.0)\n",
      "Requirement already satisfied: packaging in /usr/local/lib/python3.10/dist-packages (from keras-tuner) (23.2)\n",
      "Requirement already satisfied: requests in /usr/local/lib/python3.10/dist-packages (from keras-tuner) (2.31.0)\n",
      "Requirement already satisfied: kt-legacy in /usr/local/lib/python3.10/dist-packages (from keras-tuner) (1.0.5)\n",
      "Requirement already satisfied: charset-normalizer<4,>=2 in /usr/local/lib/python3.10/dist-packages (from requests->keras-tuner) (3.3.2)\n",
      "Requirement already satisfied: idna<4,>=2.5 in /usr/local/lib/python3.10/dist-packages (from requests->keras-tuner) (3.6)\n",
      "Requirement already satisfied: urllib3<3,>=1.21.1 in /usr/local/lib/python3.10/dist-packages (from requests->keras-tuner) (2.0.7)\n",
      "Requirement already satisfied: certifi>=2017.4.17 in /usr/local/lib/python3.10/dist-packages (from requests->keras-tuner) (2023.11.17)\n"
     ]
    }
   ],
   "source": [
    "!pip install keras-tuner"
   ]
  },
  {
   "cell_type": "code",
   "execution_count": null,
   "id": "ymJLGm-Dvjgr",
   "metadata": {
    "id": "ymJLGm-Dvjgr"
   },
   "outputs": [],
   "source": [
    "import keras_tuner\n",
    "from keras_tuner.tuners import RandomSearch\n",
    "from keras_tuner.engine.hyperparameters import HyperParameters"
   ]
  },
  {
   "cell_type": "code",
   "execution_count": 84,
   "id": "xEzwoDTavqCZ",
   "metadata": {
    "id": "xEzwoDTavqCZ"
   },
   "outputs": [],
   "source": [
    "def build_model(hp):\n",
    "    model = Sequential()\n",
    "    model.add(LSTM(hp.Int('input_unit', min_value=32, max_value=512, step=32), input_shape=[1, 300], return_sequences=True))\n",
    "    model.add(Dropout(hp.Float('Dropout_rate', min_value=0, max_value=0.5, step=0.1)))\n",
    "    for i in range(hp.Int('n_layers', 1, 4)):\n",
    "        model.add(LSTM(hp.Int(f'lstm_{i}_units', min_value=32, max_value=512, step=32), return_sequences=True))\n",
    "        model.add(Dropout(hp.Float('Dropout_rate', min_value=0, max_value=0.5, step=0.1)))\n",
    "    model.add(LSTM(hp.Int('layer_2_neurons', min_value=32, max_value=512, step=32)))\n",
    "    model.add(Dropout(hp.Float('Dropout_rate', min_value=0, max_value=0.5, step=0.1)))\n",
    "    model.add(Dense(1, activation='relu'))\n",
    "    model.compile(loss='mean_squared_error', optimizer='adam', metrics = [\"mse\"])\n",
    "    return model"
   ]
  },
  {
   "cell_type": "code",
   "execution_count": 85,
   "id": "2h7RBYGNw9bX",
   "metadata": {
    "id": "2h7RBYGNw9bX"
   },
   "outputs": [],
   "source": [
    "tuner= RandomSearch(\n",
    "        build_model,\n",
    "        objective='val_mse',\n",
    "        max_trials=5,\n",
    "        executions_per_trial=1\n",
    "        )"
   ]
  },
  {
   "cell_type": "code",
   "execution_count": 86,
   "id": "2bpLGwBOxCsw",
   "metadata": {
    "colab": {
     "base_uri": "https://localhost:8080/"
    },
    "id": "2bpLGwBOxCsw",
    "outputId": "af07d09b-2f4e-4130-e515-1a1efc312e2b"
   },
   "outputs": [
    {
     "name": "stdout",
     "output_type": "stream",
     "text": [
      "Trial 5 Complete [00h 02m 29s]\n",
      "val_mse: 3.2900352478027344\n",
      "\n",
      "Best val_mse So Far: 3.2599399089813232\n",
      "Total elapsed time: 00h 17m 28s\n"
     ]
    }
   ],
   "source": [
    "tuner.search(\n",
    "        x=training_vectors,\n",
    "        y=y_train,\n",
    "        epochs=150,\n",
    "        batch_size=128,\n",
    "        validation_data=(testing_vectors,y_test),\n",
    ")"
   ]
  },
  {
   "cell_type": "markdown",
   "id": "16CMyciY3G36",
   "metadata": {
    "id": "16CMyciY3G36"
   },
   "source": [
    "## Getting the best model\n",
    "After the search has been done (it may take a long time). We are ready to get the best model."
   ]
  },
  {
   "cell_type": "code",
   "execution_count": 87,
   "id": "qaukdkjtxw9D",
   "metadata": {
    "id": "qaukdkjtxw9D"
   },
   "outputs": [],
   "source": [
    "best_model = tuner.get_best_models(num_models=1)[0]"
   ]
  },
  {
   "cell_type": "markdown",
   "id": "A-ri3f5B3ZYr",
   "metadata": {
    "id": "A-ri3f5B3ZYr"
   },
   "source": [
    "Testing the best model"
   ]
  },
  {
   "cell_type": "code",
   "execution_count": 88,
   "id": "0aePJD153O4Y",
   "metadata": {
    "colab": {
     "base_uri": "https://localhost:8080/"
    },
    "id": "0aePJD153O4Y",
    "outputId": "e5571661-46a0-4e4e-8e35-3615628d5e09"
   },
   "outputs": [
    {
     "name": "stdout",
     "output_type": "stream",
     "text": [
      "122/122 [==============================] - 1s 3ms/step\n"
     ]
    }
   ],
   "source": [
    "y_pred_1 = best_model.predict(testing_vectors)\n",
    "y_pred_1 = np.around(y_pred_1)"
   ]
  },
  {
   "cell_type": "code",
   "execution_count": 89,
   "id": "lR4WatdW32DB",
   "metadata": {
    "colab": {
     "base_uri": "https://localhost:8080/"
    },
    "id": "lR4WatdW32DB",
    "outputId": "a846fb2a-1de3-4cf7-9503-e340ae09813f"
   },
   "outputs": [
    {
     "name": "stdout",
     "output_type": "stream",
     "text": [
      "Kappa Score: 0.6718185214975547\n"
     ]
    }
   ],
   "source": [
    "result = cohen_kappa_score(y_test.values, y_pred_1, weights='quadratic')\n",
    "print(\"Kappa Score: {}\".format(result))"
   ]
  },
  {
   "cell_type": "code",
   "execution_count": 90,
   "id": "TX0xr6U439QJ",
   "metadata": {
    "colab": {
     "base_uri": "https://localhost:8080/"
    },
    "id": "TX0xr6U439QJ",
    "outputId": "71252ec6-1cf4-4f35-90ff-a20590726092"
   },
   "outputs": [
    {
     "name": "stdout",
     "output_type": "stream",
     "text": [
      "Mean squared error: 3.36\n"
     ]
    }
   ],
   "source": [
    "print(\"Mean squared error: %.2f\" % mean_squared_error(y_test, y_pred_1))"
   ]
  },
  {
   "cell_type": "code",
   "execution_count": 92,
   "id": "_en4XM4z4y4P",
   "metadata": {
    "id": "_en4XM4z4y4P"
   },
   "outputs": [],
   "source": [
    "best_model.save(\"/content/drive/MyDrive/Colab Notebooks/Hewett's Essay/best_lstm.keras\")"
   ]
  },
  {
   "cell_type": "code",
   "execution_count": null,
   "id": "0lBIS5r5B7uM",
   "metadata": {
    "id": "0lBIS5r5B7uM"
   },
   "outputs": [],
   "source": []
  }
 ],
 "metadata": {
  "accelerator": "GPU",
  "colab": {
   "gpuType": "T4",
   "provenance": []
  },
  "kernelspec": {
   "display_name": "Python 3 (ipykernel)",
   "language": "python",
   "name": "python3"
  },
  "language_info": {
   "codemirror_mode": {
    "name": "ipython",
    "version": 3
   },
   "file_extension": ".py",
   "mimetype": "text/x-python",
   "name": "python",
   "nbconvert_exporter": "python",
   "pygments_lexer": "ipython3",
   "version": "3.11.6"
  }
 },
 "nbformat": 4,
 "nbformat_minor": 5
}
